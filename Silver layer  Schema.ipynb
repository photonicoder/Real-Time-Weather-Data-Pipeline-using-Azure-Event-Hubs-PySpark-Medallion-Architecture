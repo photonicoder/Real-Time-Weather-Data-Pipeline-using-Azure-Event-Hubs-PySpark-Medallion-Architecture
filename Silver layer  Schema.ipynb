{
 "cells": [
  {
   "cell_type": "code",
   "execution_count": 0,
   "metadata": {
    "application/vnd.databricks.v1+cell": {
     "cellMetadata": {
      "byteLimit": 2048000,
      "rowLimit": 10000
     },
     "collapsed": true,
     "inputWidgets": {},
     "nuid": "df33f7f5-8869-4d65-911c-07f32726adb1",
     "showTitle": false,
     "tableResultSettingsMap": {},
     "title": ""
    }
   },
   "outputs": [
    {
     "output_type": "display_data",
     "data": {
      "text/html": [
       "<style scoped>\n",
       "  .table-result-container {\n",
       "    max-height: 300px;\n",
       "    overflow: auto;\n",
       "  }\n",
       "  table, th, td {\n",
       "    border: 1px solid black;\n",
       "    border-collapse: collapse;\n",
       "  }\n",
       "  th, td {\n",
       "    padding: 5px;\n",
       "  }\n",
       "  th {\n",
       "    text-align: left;\n",
       "  }\n",
       "</style><div class='table-result-container'><table class='table-result'><thead style='background-color: white'><tr><th>timestamp</th><th>value</th><th>weather_data</th></tr></thead><tbody><tr><td>2025-02-17T17:51:06.149Z</td><td>0</td><td>{\"name\": \"Chennai\", \"country\": \"India\", \"region\": \"Tamil Nadu\", \"lat\": 13.0833, \"lon\": 80.2833, \"localtime\": \"2025-02-17 23:21\", \"temp_c\": 27.0, \"is_day\": 0, \"condition\": \"Mist\", \"condition_icon\": \"//cdn.weatherapi.com/weather/64x64/night/143.png\", \"wind_kph\": 11.2, \"wind_dir\": \"ESE\", \"wind_degree\": 106, \"pressure_in\": 29.94, \"precip_in\": 0.0, \"cloud\": 25, \"humidity\": 79, \"feelslike_c\": 29.5, \"uv\": 0.0, \"air_quality\": {\"co\": 471.75, \"no2\": 10.545, \"o3\": 96.0, \"so2\": 10.73, \"pm2_5\": 68.45, \"pm10\": 79.55, \"us-epa-index\": 4, \"gb-defra-index\": 9}, \"alerts\": [], \"forecast\": [{\"date\": \"2025-02-17\", \"maxtemp_c\": 28.3, \"mintemp_c\": 23.5, \"condition\": \"Sunny\"}, {\"date\": \"2025-02-18\", \"maxtemp_c\": 28.2, \"mintemp_c\": 22.8, \"condition\": \"Sunny\"}, {\"date\": \"2025-02-19\", \"maxtemp_c\": 28.9, \"mintemp_c\": 22.5, \"condition\": \"Sunny\"}]}</td></tr><tr><td>2025-02-17T17:51:09.149Z</td><td>3</td><td>{\"name\": \"Chennai\", \"country\": \"India\", \"region\": \"Tamil Nadu\", \"lat\": 13.0833, \"lon\": 80.2833, \"localtime\": \"2025-02-17 23:21\", \"temp_c\": 27.0, \"is_day\": 0, \"condition\": \"Mist\", \"condition_icon\": \"//cdn.weatherapi.com/weather/64x64/night/143.png\", \"wind_kph\": 11.2, \"wind_dir\": \"ESE\", \"wind_degree\": 106, \"pressure_in\": 29.94, \"precip_in\": 0.0, \"cloud\": 25, \"humidity\": 79, \"feelslike_c\": 29.5, \"uv\": 0.0, \"air_quality\": {\"co\": 471.75, \"no2\": 10.545, \"o3\": 96.0, \"so2\": 10.73, \"pm2_5\": 68.45, \"pm10\": 79.55, \"us-epa-index\": 4, \"gb-defra-index\": 9}, \"alerts\": [], \"forecast\": [{\"date\": \"2025-02-17\", \"maxtemp_c\": 28.3, \"mintemp_c\": 23.5, \"condition\": \"Sunny\"}, {\"date\": \"2025-02-18\", \"maxtemp_c\": 28.2, \"mintemp_c\": 22.8, \"condition\": \"Sunny\"}, {\"date\": \"2025-02-19\", \"maxtemp_c\": 28.9, \"mintemp_c\": 22.5, \"condition\": \"Sunny\"}]}</td></tr><tr><td>2025-02-17T17:51:05.888Z</td><td>0</td><td>{\"name\": \"Chennai\", \"country\": \"India\", \"region\": \"Tamil Nadu\", \"lat\": 13.0833, \"lon\": 80.2833, \"localtime\": \"2025-02-17 23:21\", \"temp_c\": 27.0, \"is_day\": 0, \"condition\": \"Mist\", \"condition_icon\": \"//cdn.weatherapi.com/weather/64x64/night/143.png\", \"wind_kph\": 11.2, \"wind_dir\": \"ESE\", \"wind_degree\": 106, \"pressure_in\": 29.94, \"precip_in\": 0.0, \"cloud\": 25, \"humidity\": 79, \"feelslike_c\": 29.5, \"uv\": 0.0, \"air_quality\": {\"co\": 471.75, \"no2\": 10.545, \"o3\": 96.0, \"so2\": 10.73, \"pm2_5\": 68.45, \"pm10\": 79.55, \"us-epa-index\": 4, \"gb-defra-index\": 9}, \"alerts\": [], \"forecast\": [{\"date\": \"2025-02-17\", \"maxtemp_c\": 28.3, \"mintemp_c\": 23.5, \"condition\": \"Sunny\"}, {\"date\": \"2025-02-18\", \"maxtemp_c\": 28.2, \"mintemp_c\": 22.8, \"condition\": \"Sunny\"}, {\"date\": \"2025-02-19\", \"maxtemp_c\": 28.9, \"mintemp_c\": 22.5, \"condition\": \"Sunny\"}]}</td></tr><tr><td>2025-02-17T17:51:06.888Z</td><td>1</td><td>{\"name\": \"Chennai\", \"country\": \"India\", \"region\": \"Tamil Nadu\", \"lat\": 13.0833, \"lon\": 80.2833, \"localtime\": \"2025-02-17 23:21\", \"temp_c\": 27.0, \"is_day\": 0, \"condition\": \"Mist\", \"condition_icon\": \"//cdn.weatherapi.com/weather/64x64/night/143.png\", \"wind_kph\": 11.2, \"wind_dir\": \"ESE\", \"wind_degree\": 106, \"pressure_in\": 29.94, \"precip_in\": 0.0, \"cloud\": 25, \"humidity\": 79, \"feelslike_c\": 29.5, \"uv\": 0.0, \"air_quality\": {\"co\": 471.75, \"no2\": 10.545, \"o3\": 96.0, \"so2\": 10.73, \"pm2_5\": 68.45, \"pm10\": 79.55, \"us-epa-index\": 4, \"gb-defra-index\": 9}, \"alerts\": [], \"forecast\": [{\"date\": \"2025-02-17\", \"maxtemp_c\": 28.3, \"mintemp_c\": 23.5, \"condition\": \"Sunny\"}, {\"date\": \"2025-02-18\", \"maxtemp_c\": 28.2, \"mintemp_c\": 22.8, \"condition\": \"Sunny\"}, {\"date\": \"2025-02-19\", \"maxtemp_c\": 28.9, \"mintemp_c\": 22.5, \"condition\": \"Sunny\"}]}</td></tr><tr><td>2025-02-17T17:51:07.149Z</td><td>1</td><td>{\"name\": \"Chennai\", \"country\": \"India\", \"region\": \"Tamil Nadu\", \"lat\": 13.0833, \"lon\": 80.2833, \"localtime\": \"2025-02-17 23:21\", \"temp_c\": 27.0, \"is_day\": 0, \"condition\": \"Mist\", \"condition_icon\": \"//cdn.weatherapi.com/weather/64x64/night/143.png\", \"wind_kph\": 11.2, \"wind_dir\": \"ESE\", \"wind_degree\": 106, \"pressure_in\": 29.94, \"precip_in\": 0.0, \"cloud\": 25, \"humidity\": 79, \"feelslike_c\": 29.5, \"uv\": 0.0, \"air_quality\": {\"co\": 471.75, \"no2\": 10.545, \"o3\": 96.0, \"so2\": 10.73, \"pm2_5\": 68.45, \"pm10\": 79.55, \"us-epa-index\": 4, \"gb-defra-index\": 9}, \"alerts\": [], \"forecast\": [{\"date\": \"2025-02-17\", \"maxtemp_c\": 28.3, \"mintemp_c\": 23.5, \"condition\": \"Sunny\"}, {\"date\": \"2025-02-18\", \"maxtemp_c\": 28.2, \"mintemp_c\": 22.8, \"condition\": \"Sunny\"}, {\"date\": \"2025-02-19\", \"maxtemp_c\": 28.9, \"mintemp_c\": 22.5, \"condition\": \"Sunny\"}]}</td></tr><tr><td>2025-02-17T17:51:08.149Z</td><td>2</td><td>{\"name\": \"Chennai\", \"country\": \"India\", \"region\": \"Tamil Nadu\", \"lat\": 13.0833, \"lon\": 80.2833, \"localtime\": \"2025-02-17 23:21\", \"temp_c\": 27.0, \"is_day\": 0, \"condition\": \"Mist\", \"condition_icon\": \"//cdn.weatherapi.com/weather/64x64/night/143.png\", \"wind_kph\": 11.2, \"wind_dir\": \"ESE\", \"wind_degree\": 106, \"pressure_in\": 29.94, \"precip_in\": 0.0, \"cloud\": 25, \"humidity\": 79, \"feelslike_c\": 29.5, \"uv\": 0.0, \"air_quality\": {\"co\": 471.75, \"no2\": 10.545, \"o3\": 96.0, \"so2\": 10.73, \"pm2_5\": 68.45, \"pm10\": 79.55, \"us-epa-index\": 4, \"gb-defra-index\": 9}, \"alerts\": [], \"forecast\": [{\"date\": \"2025-02-17\", \"maxtemp_c\": 28.3, \"mintemp_c\": 23.5, \"condition\": \"Sunny\"}, {\"date\": \"2025-02-18\", \"maxtemp_c\": 28.2, \"mintemp_c\": 22.8, \"condition\": \"Sunny\"}, {\"date\": \"2025-02-19\", \"maxtemp_c\": 28.9, \"mintemp_c\": 22.5, \"condition\": \"Sunny\"}]}</td></tr><tr><td>2025-02-17T17:51:14.888Z</td><td>9</td><td>{\"name\": \"Chennai\", \"country\": \"India\", \"region\": \"Tamil Nadu\", \"lat\": 13.0833, \"lon\": 80.2833, \"localtime\": \"2025-02-17 23:21\", \"temp_c\": 27.0, \"is_day\": 0, \"condition\": \"Mist\", \"condition_icon\": \"//cdn.weatherapi.com/weather/64x64/night/143.png\", \"wind_kph\": 11.2, \"wind_dir\": \"ESE\", \"wind_degree\": 106, \"pressure_in\": 29.94, \"precip_in\": 0.0, \"cloud\": 25, \"humidity\": 79, \"feelslike_c\": 29.5, \"uv\": 0.0, \"air_quality\": {\"co\": 471.75, \"no2\": 10.545, \"o3\": 96.0, \"so2\": 10.73, \"pm2_5\": 68.45, \"pm10\": 79.55, \"us-epa-index\": 4, \"gb-defra-index\": 9}, \"alerts\": [], \"forecast\": [{\"date\": \"2025-02-17\", \"maxtemp_c\": 28.3, \"mintemp_c\": 23.5, \"condition\": \"Sunny\"}, {\"date\": \"2025-02-18\", \"maxtemp_c\": 28.2, \"mintemp_c\": 22.8, \"condition\": \"Sunny\"}, {\"date\": \"2025-02-19\", \"maxtemp_c\": 28.9, \"mintemp_c\": 22.5, \"condition\": \"Sunny\"}]}</td></tr><tr><td>2025-02-17T17:51:08.888Z</td><td>3</td><td>{\"name\": \"Chennai\", \"country\": \"India\", \"region\": \"Tamil Nadu\", \"lat\": 13.0833, \"lon\": 80.2833, \"localtime\": \"2025-02-17 23:21\", \"temp_c\": 27.0, \"is_day\": 0, \"condition\": \"Mist\", \"condition_icon\": \"//cdn.weatherapi.com/weather/64x64/night/143.png\", \"wind_kph\": 11.2, \"wind_dir\": \"ESE\", \"wind_degree\": 106, \"pressure_in\": 29.94, \"precip_in\": 0.0, \"cloud\": 25, \"humidity\": 79, \"feelslike_c\": 29.5, \"uv\": 0.0, \"air_quality\": {\"co\": 471.75, \"no2\": 10.545, \"o3\": 96.0, \"so2\": 10.73, \"pm2_5\": 68.45, \"pm10\": 79.55, \"us-epa-index\": 4, \"gb-defra-index\": 9}, \"alerts\": [], \"forecast\": [{\"date\": \"2025-02-17\", \"maxtemp_c\": 28.3, \"mintemp_c\": 23.5, \"condition\": \"Sunny\"}, {\"date\": \"2025-02-18\", \"maxtemp_c\": 28.2, \"mintemp_c\": 22.8, \"condition\": \"Sunny\"}, {\"date\": \"2025-02-19\", \"maxtemp_c\": 28.9, \"mintemp_c\": 22.5, \"condition\": \"Sunny\"}]}</td></tr><tr><td>2025-02-17T17:51:10.149Z</td><td>4</td><td>{\"name\": \"Chennai\", \"country\": \"India\", \"region\": \"Tamil Nadu\", \"lat\": 13.0833, \"lon\": 80.2833, \"localtime\": \"2025-02-17 23:21\", \"temp_c\": 27.0, \"is_day\": 0, \"condition\": \"Mist\", \"condition_icon\": \"//cdn.weatherapi.com/weather/64x64/night/143.png\", \"wind_kph\": 11.2, \"wind_dir\": \"ESE\", \"wind_degree\": 106, \"pressure_in\": 29.94, \"precip_in\": 0.0, \"cloud\": 25, \"humidity\": 79, \"feelslike_c\": 29.5, \"uv\": 0.0, \"air_quality\": {\"co\": 471.75, \"no2\": 10.545, \"o3\": 96.0, \"so2\": 10.73, \"pm2_5\": 68.45, \"pm10\": 79.55, \"us-epa-index\": 4, \"gb-defra-index\": 9}, \"alerts\": [], \"forecast\": [{\"date\": \"2025-02-17\", \"maxtemp_c\": 28.3, \"mintemp_c\": 23.5, \"condition\": \"Sunny\"}, {\"date\": \"2025-02-18\", \"maxtemp_c\": 28.2, \"mintemp_c\": 22.8, \"condition\": \"Sunny\"}, {\"date\": \"2025-02-19\", \"maxtemp_c\": 28.9, \"mintemp_c\": 22.5, \"condition\": \"Sunny\"}]}</td></tr><tr><td>2025-02-17T17:51:10.888Z</td><td>5</td><td>{\"name\": \"Chennai\", \"country\": \"India\", \"region\": \"Tamil Nadu\", \"lat\": 13.0833, \"lon\": 80.2833, \"localtime\": \"2025-02-17 23:21\", \"temp_c\": 27.0, \"is_day\": 0, \"condition\": \"Mist\", \"condition_icon\": \"//cdn.weatherapi.com/weather/64x64/night/143.png\", \"wind_kph\": 11.2, \"wind_dir\": \"ESE\", \"wind_degree\": 106, \"pressure_in\": 29.94, \"precip_in\": 0.0, \"cloud\": 25, \"humidity\": 79, \"feelslike_c\": 29.5, \"uv\": 0.0, \"air_quality\": {\"co\": 471.75, \"no2\": 10.545, \"o3\": 96.0, \"so2\": 10.73, \"pm2_5\": 68.45, \"pm10\": 79.55, \"us-epa-index\": 4, \"gb-defra-index\": 9}, \"alerts\": [], \"forecast\": [{\"date\": \"2025-02-17\", \"maxtemp_c\": 28.3, \"mintemp_c\": 23.5, \"condition\": \"Sunny\"}, {\"date\": \"2025-02-18\", \"maxtemp_c\": 28.2, \"mintemp_c\": 22.8, \"condition\": \"Sunny\"}, {\"date\": \"2025-02-19\", \"maxtemp_c\": 28.9, \"mintemp_c\": 22.5, \"condition\": \"Sunny\"}]}</td></tr><tr><td>2025-02-17T17:51:12.149Z</td><td>6</td><td>{\"name\": \"Chennai\", \"country\": \"India\", \"region\": \"Tamil Nadu\", \"lat\": 13.0833, \"lon\": 80.2833, \"localtime\": \"2025-02-17 23:21\", \"temp_c\": 27.0, \"is_day\": 0, \"condition\": \"Mist\", \"condition_icon\": \"//cdn.weatherapi.com/weather/64x64/night/143.png\", \"wind_kph\": 11.2, \"wind_dir\": \"ESE\", \"wind_degree\": 106, \"pressure_in\": 29.94, \"precip_in\": 0.0, \"cloud\": 25, \"humidity\": 79, \"feelslike_c\": 29.5, \"uv\": 0.0, \"air_quality\": {\"co\": 471.75, \"no2\": 10.545, \"o3\": 96.0, \"so2\": 10.73, \"pm2_5\": 68.45, \"pm10\": 79.55, \"us-epa-index\": 4, \"gb-defra-index\": 9}, \"alerts\": [], \"forecast\": [{\"date\": \"2025-02-17\", \"maxtemp_c\": 28.3, \"mintemp_c\": 23.5, \"condition\": \"Sunny\"}, {\"date\": \"2025-02-18\", \"maxtemp_c\": 28.2, \"mintemp_c\": 22.8, \"condition\": \"Sunny\"}, {\"date\": \"2025-02-19\", \"maxtemp_c\": 28.9, \"mintemp_c\": 22.5, \"condition\": \"Sunny\"}]}</td></tr><tr><td>2025-02-17T17:51:17.149Z</td><td>11</td><td>{\"name\": \"Chennai\", \"country\": \"India\", \"region\": \"Tamil Nadu\", \"lat\": 13.0833, \"lon\": 80.2833, \"localtime\": \"2025-02-17 23:21\", \"temp_c\": 27.0, \"is_day\": 0, \"condition\": \"Mist\", \"condition_icon\": \"//cdn.weatherapi.com/weather/64x64/night/143.png\", \"wind_kph\": 11.2, \"wind_dir\": \"ESE\", \"wind_degree\": 106, \"pressure_in\": 29.94, \"precip_in\": 0.0, \"cloud\": 25, \"humidity\": 79, \"feelslike_c\": 29.5, \"uv\": 0.0, \"air_quality\": {\"co\": 471.75, \"no2\": 10.545, \"o3\": 96.0, \"so2\": 10.73, \"pm2_5\": 68.45, \"pm10\": 79.55, \"us-epa-index\": 4, \"gb-defra-index\": 9}, \"alerts\": [], \"forecast\": [{\"date\": \"2025-02-17\", \"maxtemp_c\": 28.3, \"mintemp_c\": 23.5, \"condition\": \"Sunny\"}, {\"date\": \"2025-02-18\", \"maxtemp_c\": 28.2, \"mintemp_c\": 22.8, \"condition\": \"Sunny\"}, {\"date\": \"2025-02-19\", \"maxtemp_c\": 28.9, \"mintemp_c\": 22.5, \"condition\": \"Sunny\"}]}</td></tr><tr><td>2025-02-17T17:51:11.888Z</td><td>6</td><td>{\"name\": \"Chennai\", \"country\": \"India\", \"region\": \"Tamil Nadu\", \"lat\": 13.0833, \"lon\": 80.2833, \"localtime\": \"2025-02-17 23:21\", \"temp_c\": 27.0, \"is_day\": 0, \"condition\": \"Mist\", \"condition_icon\": \"//cdn.weatherapi.com/weather/64x64/night/143.png\", \"wind_kph\": 11.2, \"wind_dir\": \"ESE\", \"wind_degree\": 106, \"pressure_in\": 29.94, \"precip_in\": 0.0, \"cloud\": 25, \"humidity\": 79, \"feelslike_c\": 29.5, \"uv\": 0.0, \"air_quality\": {\"co\": 471.75, \"no2\": 10.545, \"o3\": 96.0, \"so2\": 10.73, \"pm2_5\": 68.45, \"pm10\": 79.55, \"us-epa-index\": 4, \"gb-defra-index\": 9}, \"alerts\": [], \"forecast\": [{\"date\": \"2025-02-17\", \"maxtemp_c\": 28.3, \"mintemp_c\": 23.5, \"condition\": \"Sunny\"}, {\"date\": \"2025-02-18\", \"maxtemp_c\": 28.2, \"mintemp_c\": 22.8, \"condition\": \"Sunny\"}, {\"date\": \"2025-02-19\", \"maxtemp_c\": 28.9, \"mintemp_c\": 22.5, \"condition\": \"Sunny\"}]}</td></tr><tr><td>2025-02-17T17:51:09.888Z</td><td>4</td><td>{\"name\": \"Chennai\", \"country\": \"India\", \"region\": \"Tamil Nadu\", \"lat\": 13.0833, \"lon\": 80.2833, \"localtime\": \"2025-02-17 23:21\", \"temp_c\": 27.0, \"is_day\": 0, \"condition\": \"Mist\", \"condition_icon\": \"//cdn.weatherapi.com/weather/64x64/night/143.png\", \"wind_kph\": 11.2, \"wind_dir\": \"ESE\", \"wind_degree\": 106, \"pressure_in\": 29.94, \"precip_in\": 0.0, \"cloud\": 25, \"humidity\": 79, \"feelslike_c\": 29.5, \"uv\": 0.0, \"air_quality\": {\"co\": 471.75, \"no2\": 10.545, \"o3\": 96.0, \"so2\": 10.73, \"pm2_5\": 68.45, \"pm10\": 79.55, \"us-epa-index\": 4, \"gb-defra-index\": 9}, \"alerts\": [], \"forecast\": [{\"date\": \"2025-02-17\", \"maxtemp_c\": 28.3, \"mintemp_c\": 23.5, \"condition\": \"Sunny\"}, {\"date\": \"2025-02-18\", \"maxtemp_c\": 28.2, \"mintemp_c\": 22.8, \"condition\": \"Sunny\"}, {\"date\": \"2025-02-19\", \"maxtemp_c\": 28.9, \"mintemp_c\": 22.5, \"condition\": \"Sunny\"}]}</td></tr><tr><td>2025-02-17T17:51:11.149Z</td><td>5</td><td>{\"name\": \"Chennai\", \"country\": \"India\", \"region\": \"Tamil Nadu\", \"lat\": 13.0833, \"lon\": 80.2833, \"localtime\": \"2025-02-17 23:21\", \"temp_c\": 27.0, \"is_day\": 0, \"condition\": \"Mist\", \"condition_icon\": \"//cdn.weatherapi.com/weather/64x64/night/143.png\", \"wind_kph\": 11.2, \"wind_dir\": \"ESE\", \"wind_degree\": 106, \"pressure_in\": 29.94, \"precip_in\": 0.0, \"cloud\": 25, \"humidity\": 79, \"feelslike_c\": 29.5, \"uv\": 0.0, \"air_quality\": {\"co\": 471.75, \"no2\": 10.545, \"o3\": 96.0, \"so2\": 10.73, \"pm2_5\": 68.45, \"pm10\": 79.55, \"us-epa-index\": 4, \"gb-defra-index\": 9}, \"alerts\": [], \"forecast\": [{\"date\": \"2025-02-17\", \"maxtemp_c\": 28.3, \"mintemp_c\": 23.5, \"condition\": \"Sunny\"}, {\"date\": \"2025-02-18\", \"maxtemp_c\": 28.2, \"mintemp_c\": 22.8, \"condition\": \"Sunny\"}, {\"date\": \"2025-02-19\", \"maxtemp_c\": 28.9, \"mintemp_c\": 22.5, \"condition\": \"Sunny\"}]}</td></tr><tr><td>2025-02-17T17:51:13.149Z</td><td>7</td><td>{\"name\": \"Chennai\", \"country\": \"India\", \"region\": \"Tamil Nadu\", \"lat\": 13.0833, \"lon\": 80.2833, \"localtime\": \"2025-02-17 23:21\", \"temp_c\": 27.0, \"is_day\": 0, \"condition\": \"Mist\", \"condition_icon\": \"//cdn.weatherapi.com/weather/64x64/night/143.png\", \"wind_kph\": 11.2, \"wind_dir\": \"ESE\", \"wind_degree\": 106, \"pressure_in\": 29.94, \"precip_in\": 0.0, \"cloud\": 25, \"humidity\": 79, \"feelslike_c\": 29.5, \"uv\": 0.0, \"air_quality\": {\"co\": 471.75, \"no2\": 10.545, \"o3\": 96.0, \"so2\": 10.73, \"pm2_5\": 68.45, \"pm10\": 79.55, \"us-epa-index\": 4, \"gb-defra-index\": 9}, \"alerts\": [], \"forecast\": [{\"date\": \"2025-02-17\", \"maxtemp_c\": 28.3, \"mintemp_c\": 23.5, \"condition\": \"Sunny\"}, {\"date\": \"2025-02-18\", \"maxtemp_c\": 28.2, \"mintemp_c\": 22.8, \"condition\": \"Sunny\"}, {\"date\": \"2025-02-19\", \"maxtemp_c\": 28.9, \"mintemp_c\": 22.5, \"condition\": \"Sunny\"}]}</td></tr><tr><td>2025-02-17T17:51:12.888Z</td><td>7</td><td>{\"name\": \"Chennai\", \"country\": \"India\", \"region\": \"Tamil Nadu\", \"lat\": 13.0833, \"lon\": 80.2833, \"localtime\": \"2025-02-17 23:21\", \"temp_c\": 27.0, \"is_day\": 0, \"condition\": \"Mist\", \"condition_icon\": \"//cdn.weatherapi.com/weather/64x64/night/143.png\", \"wind_kph\": 11.2, \"wind_dir\": \"ESE\", \"wind_degree\": 106, \"pressure_in\": 29.94, \"precip_in\": 0.0, \"cloud\": 25, \"humidity\": 79, \"feelslike_c\": 29.5, \"uv\": 0.0, \"air_quality\": {\"co\": 471.75, \"no2\": 10.545, \"o3\": 96.0, \"so2\": 10.73, \"pm2_5\": 68.45, \"pm10\": 79.55, \"us-epa-index\": 4, \"gb-defra-index\": 9}, \"alerts\": [], \"forecast\": [{\"date\": \"2025-02-17\", \"maxtemp_c\": 28.3, \"mintemp_c\": 23.5, \"condition\": \"Sunny\"}, {\"date\": \"2025-02-18\", \"maxtemp_c\": 28.2, \"mintemp_c\": 22.8, \"condition\": \"Sunny\"}, {\"date\": \"2025-02-19\", \"maxtemp_c\": 28.9, \"mintemp_c\": 22.5, \"condition\": \"Sunny\"}]}</td></tr><tr><td>2025-02-17T17:51:14.149Z</td><td>8</td><td>{\"name\": \"Chennai\", \"country\": \"India\", \"region\": \"Tamil Nadu\", \"lat\": 13.0833, \"lon\": 80.2833, \"localtime\": \"2025-02-17 23:21\", \"temp_c\": 27.0, \"is_day\": 0, \"condition\": \"Mist\", \"condition_icon\": \"//cdn.weatherapi.com/weather/64x64/night/143.png\", \"wind_kph\": 11.2, \"wind_dir\": \"ESE\", \"wind_degree\": 106, \"pressure_in\": 29.94, \"precip_in\": 0.0, \"cloud\": 25, \"humidity\": 79, \"feelslike_c\": 29.5, \"uv\": 0.0, \"air_quality\": {\"co\": 471.75, \"no2\": 10.545, \"o3\": 96.0, \"so2\": 10.73, \"pm2_5\": 68.45, \"pm10\": 79.55, \"us-epa-index\": 4, \"gb-defra-index\": 9}, \"alerts\": [], \"forecast\": [{\"date\": \"2025-02-17\", \"maxtemp_c\": 28.3, \"mintemp_c\": 23.5, \"condition\": \"Sunny\"}, {\"date\": \"2025-02-18\", \"maxtemp_c\": 28.2, \"mintemp_c\": 22.8, \"condition\": \"Sunny\"}, {\"date\": \"2025-02-19\", \"maxtemp_c\": 28.9, \"mintemp_c\": 22.5, \"condition\": \"Sunny\"}]}</td></tr><tr><td>2025-02-17T17:51:13.888Z</td><td>8</td><td>{\"name\": \"Chennai\", \"country\": \"India\", \"region\": \"Tamil Nadu\", \"lat\": 13.0833, \"lon\": 80.2833, \"localtime\": \"2025-02-17 23:21\", \"temp_c\": 27.0, \"is_day\": 0, \"condition\": \"Mist\", \"condition_icon\": \"//cdn.weatherapi.com/weather/64x64/night/143.png\", \"wind_kph\": 11.2, \"wind_dir\": \"ESE\", \"wind_degree\": 106, \"pressure_in\": 29.94, \"precip_in\": 0.0, \"cloud\": 25, \"humidity\": 79, \"feelslike_c\": 29.5, \"uv\": 0.0, \"air_quality\": {\"co\": 471.75, \"no2\": 10.545, \"o3\": 96.0, \"so2\": 10.73, \"pm2_5\": 68.45, \"pm10\": 79.55, \"us-epa-index\": 4, \"gb-defra-index\": 9}, \"alerts\": [], \"forecast\": [{\"date\": \"2025-02-17\", \"maxtemp_c\": 28.3, \"mintemp_c\": 23.5, \"condition\": \"Sunny\"}, {\"date\": \"2025-02-18\", \"maxtemp_c\": 28.2, \"mintemp_c\": 22.8, \"condition\": \"Sunny\"}, {\"date\": \"2025-02-19\", \"maxtemp_c\": 28.9, \"mintemp_c\": 22.5, \"condition\": \"Sunny\"}]}</td></tr><tr><td>2025-02-17T17:51:15.149Z</td><td>9</td><td>{\"name\": \"Chennai\", \"country\": \"India\", \"region\": \"Tamil Nadu\", \"lat\": 13.0833, \"lon\": 80.2833, \"localtime\": \"2025-02-17 23:21\", \"temp_c\": 27.0, \"is_day\": 0, \"condition\": \"Mist\", \"condition_icon\": \"//cdn.weatherapi.com/weather/64x64/night/143.png\", \"wind_kph\": 11.2, \"wind_dir\": \"ESE\", \"wind_degree\": 106, \"pressure_in\": 29.94, \"precip_in\": 0.0, \"cloud\": 25, \"humidity\": 79, \"feelslike_c\": 29.5, \"uv\": 0.0, \"air_quality\": {\"co\": 471.75, \"no2\": 10.545, \"o3\": 96.0, \"so2\": 10.73, \"pm2_5\": 68.45, \"pm10\": 79.55, \"us-epa-index\": 4, \"gb-defra-index\": 9}, \"alerts\": [], \"forecast\": [{\"date\": \"2025-02-17\", \"maxtemp_c\": 28.3, \"mintemp_c\": 23.5, \"condition\": \"Sunny\"}, {\"date\": \"2025-02-18\", \"maxtemp_c\": 28.2, \"mintemp_c\": 22.8, \"condition\": \"Sunny\"}, {\"date\": \"2025-02-19\", \"maxtemp_c\": 28.9, \"mintemp_c\": 22.5, \"condition\": \"Sunny\"}]}</td></tr><tr><td>2025-02-17T17:51:18.149Z</td><td>12</td><td>{\"name\": \"Chennai\", \"country\": \"India\", \"region\": \"Tamil Nadu\", \"lat\": 13.0833, \"lon\": 80.2833, \"localtime\": \"2025-02-17 23:21\", \"temp_c\": 27.0, \"is_day\": 0, \"condition\": \"Mist\", \"condition_icon\": \"//cdn.weatherapi.com/weather/64x64/night/143.png\", \"wind_kph\": 11.2, \"wind_dir\": \"ESE\", \"wind_degree\": 106, \"pressure_in\": 29.94, \"precip_in\": 0.0, \"cloud\": 25, \"humidity\": 79, \"feelslike_c\": 29.5, \"uv\": 0.0, \"air_quality\": {\"co\": 471.75, \"no2\": 10.545, \"o3\": 96.0, \"so2\": 10.73, \"pm2_5\": 68.45, \"pm10\": 79.55, \"us-epa-index\": 4, \"gb-defra-index\": 9}, \"alerts\": [], \"forecast\": [{\"date\": \"2025-02-17\", \"maxtemp_c\": 28.3, \"mintemp_c\": 23.5, \"condition\": \"Sunny\"}, {\"date\": \"2025-02-18\", \"maxtemp_c\": 28.2, \"mintemp_c\": 22.8, \"condition\": \"Sunny\"}, {\"date\": \"2025-02-19\", \"maxtemp_c\": 28.9, \"mintemp_c\": 22.5, \"condition\": \"Sunny\"}]}</td></tr><tr><td>2025-02-17T17:51:21.149Z</td><td>15</td><td>{\"name\": \"Chennai\", \"country\": \"India\", \"region\": \"Tamil Nadu\", \"lat\": 13.0833, \"lon\": 80.2833, \"localtime\": \"2025-02-17 23:21\", \"temp_c\": 27.0, \"is_day\": 0, \"condition\": \"Mist\", \"condition_icon\": \"//cdn.weatherapi.com/weather/64x64/night/143.png\", \"wind_kph\": 11.2, \"wind_dir\": \"ESE\", \"wind_degree\": 106, \"pressure_in\": 29.94, \"precip_in\": 0.0, \"cloud\": 25, \"humidity\": 79, \"feelslike_c\": 29.5, \"uv\": 0.0, \"air_quality\": {\"co\": 471.75, \"no2\": 10.545, \"o3\": 96.0, \"so2\": 10.73, \"pm2_5\": 68.45, \"pm10\": 79.55, \"us-epa-index\": 4, \"gb-defra-index\": 9}, \"alerts\": [], \"forecast\": [{\"date\": \"2025-02-17\", \"maxtemp_c\": 28.3, \"mintemp_c\": 23.5, \"condition\": \"Sunny\"}, {\"date\": \"2025-02-18\", \"maxtemp_c\": 28.2, \"mintemp_c\": 22.8, \"condition\": \"Sunny\"}, {\"date\": \"2025-02-19\", \"maxtemp_c\": 28.9, \"mintemp_c\": 22.5, \"condition\": \"Sunny\"}]}</td></tr><tr><td>2025-02-17T17:51:16.888Z</td><td>11</td><td>{\"name\": \"Chennai\", \"country\": \"India\", \"region\": \"Tamil Nadu\", \"lat\": 13.0833, \"lon\": 80.2833, \"localtime\": \"2025-02-17 23:21\", \"temp_c\": 27.0, \"is_day\": 0, \"condition\": \"Mist\", \"condition_icon\": \"//cdn.weatherapi.com/weather/64x64/night/143.png\", \"wind_kph\": 11.2, \"wind_dir\": \"ESE\", \"wind_degree\": 106, \"pressure_in\": 29.94, \"precip_in\": 0.0, \"cloud\": 25, \"humidity\": 79, \"feelslike_c\": 29.5, \"uv\": 0.0, \"air_quality\": {\"co\": 471.75, \"no2\": 10.545, \"o3\": 96.0, \"so2\": 10.73, \"pm2_5\": 68.45, \"pm10\": 79.55, \"us-epa-index\": 4, \"gb-defra-index\": 9}, \"alerts\": [], \"forecast\": [{\"date\": \"2025-02-17\", \"maxtemp_c\": 28.3, \"mintemp_c\": 23.5, \"condition\": \"Sunny\"}, {\"date\": \"2025-02-18\", \"maxtemp_c\": 28.2, \"mintemp_c\": 22.8, \"condition\": \"Sunny\"}, {\"date\": \"2025-02-19\", \"maxtemp_c\": 28.9, \"mintemp_c\": 22.5, \"condition\": \"Sunny\"}]}</td></tr><tr><td>2025-02-17T17:51:19.149Z</td><td>13</td><td>{\"name\": \"Chennai\", \"country\": \"India\", \"region\": \"Tamil Nadu\", \"lat\": 13.0833, \"lon\": 80.2833, \"localtime\": \"2025-02-17 23:21\", \"temp_c\": 27.0, \"is_day\": 0, \"condition\": \"Mist\", \"condition_icon\": \"//cdn.weatherapi.com/weather/64x64/night/143.png\", \"wind_kph\": 11.2, \"wind_dir\": \"ESE\", \"wind_degree\": 106, \"pressure_in\": 29.94, \"precip_in\": 0.0, \"cloud\": 25, \"humidity\": 79, \"feelslike_c\": 29.5, \"uv\": 0.0, \"air_quality\": {\"co\": 471.75, \"no2\": 10.545, \"o3\": 96.0, \"so2\": 10.73, \"pm2_5\": 68.45, \"pm10\": 79.55, \"us-epa-index\": 4, \"gb-defra-index\": 9}, \"alerts\": [], \"forecast\": [{\"date\": \"2025-02-17\", \"maxtemp_c\": 28.3, \"mintemp_c\": 23.5, \"condition\": \"Sunny\"}, {\"date\": \"2025-02-18\", \"maxtemp_c\": 28.2, \"mintemp_c\": 22.8, \"condition\": \"Sunny\"}, {\"date\": \"2025-02-19\", \"maxtemp_c\": 28.9, \"mintemp_c\": 22.5, \"condition\": \"Sunny\"}]}</td></tr><tr><td>2025-02-17T17:51:19.888Z</td><td>14</td><td>{\"name\": \"Chennai\", \"country\": \"India\", \"region\": \"Tamil Nadu\", \"lat\": 13.0833, \"lon\": 80.2833, \"localtime\": \"2025-02-17 23:21\", \"temp_c\": 27.0, \"is_day\": 0, \"condition\": \"Mist\", \"condition_icon\": \"//cdn.weatherapi.com/weather/64x64/night/143.png\", \"wind_kph\": 11.2, \"wind_dir\": \"ESE\", \"wind_degree\": 106, \"pressure_in\": 29.94, \"precip_in\": 0.0, \"cloud\": 25, \"humidity\": 79, \"feelslike_c\": 29.5, \"uv\": 0.0, \"air_quality\": {\"co\": 471.75, \"no2\": 10.545, \"o3\": 96.0, \"so2\": 10.73, \"pm2_5\": 68.45, \"pm10\": 79.55, \"us-epa-index\": 4, \"gb-defra-index\": 9}, \"alerts\": [], \"forecast\": [{\"date\": \"2025-02-17\", \"maxtemp_c\": 28.3, \"mintemp_c\": 23.5, \"condition\": \"Sunny\"}, {\"date\": \"2025-02-18\", \"maxtemp_c\": 28.2, \"mintemp_c\": 22.8, \"condition\": \"Sunny\"}, {\"date\": \"2025-02-19\", \"maxtemp_c\": 28.9, \"mintemp_c\": 22.5, \"condition\": \"Sunny\"}]}</td></tr><tr><td>2025-02-17T17:51:18.888Z</td><td>13</td><td>{\"name\": \"Chennai\", \"country\": \"India\", \"region\": \"Tamil Nadu\", \"lat\": 13.0833, \"lon\": 80.2833, \"localtime\": \"2025-02-17 23:21\", \"temp_c\": 27.0, \"is_day\": 0, \"condition\": \"Mist\", \"condition_icon\": \"//cdn.weatherapi.com/weather/64x64/night/143.png\", \"wind_kph\": 11.2, \"wind_dir\": \"ESE\", \"wind_degree\": 106, \"pressure_in\": 29.94, \"precip_in\": 0.0, \"cloud\": 25, \"humidity\": 79, \"feelslike_c\": 29.5, \"uv\": 0.0, \"air_quality\": {\"co\": 471.75, \"no2\": 10.545, \"o3\": 96.0, \"so2\": 10.73, \"pm2_5\": 68.45, \"pm10\": 79.55, \"us-epa-index\": 4, \"gb-defra-index\": 9}, \"alerts\": [], \"forecast\": [{\"date\": \"2025-02-17\", \"maxtemp_c\": 28.3, \"mintemp_c\": 23.5, \"condition\": \"Sunny\"}, {\"date\": \"2025-02-18\", \"maxtemp_c\": 28.2, \"mintemp_c\": 22.8, \"condition\": \"Sunny\"}, {\"date\": \"2025-02-19\", \"maxtemp_c\": 28.9, \"mintemp_c\": 22.5, \"condition\": \"Sunny\"}]}</td></tr><tr><td>2025-02-17T17:51:17.888Z</td><td>12</td><td>{\"name\": \"Chennai\", \"country\": \"India\", \"region\": \"Tamil Nadu\", \"lat\": 13.0833, \"lon\": 80.2833, \"localtime\": \"2025-02-17 23:21\", \"temp_c\": 27.0, \"is_day\": 0, \"condition\": \"Mist\", \"condition_icon\": \"//cdn.weatherapi.com/weather/64x64/night/143.png\", \"wind_kph\": 11.2, \"wind_dir\": \"ESE\", \"wind_degree\": 106, \"pressure_in\": 29.94, \"precip_in\": 0.0, \"cloud\": 25, \"humidity\": 79, \"feelslike_c\": 29.5, \"uv\": 0.0, \"air_quality\": {\"co\": 471.75, \"no2\": 10.545, \"o3\": 96.0, \"so2\": 10.73, \"pm2_5\": 68.45, \"pm10\": 79.55, \"us-epa-index\": 4, \"gb-defra-index\": 9}, \"alerts\": [], \"forecast\": [{\"date\": \"2025-02-17\", \"maxtemp_c\": 28.3, \"mintemp_c\": 23.5, \"condition\": \"Sunny\"}, {\"date\": \"2025-02-18\", \"maxtemp_c\": 28.2, \"mintemp_c\": 22.8, \"condition\": \"Sunny\"}, {\"date\": \"2025-02-19\", \"maxtemp_c\": 28.9, \"mintemp_c\": 22.5, \"condition\": \"Sunny\"}]}</td></tr><tr><td>2025-02-17T17:51:20.888Z</td><td>15</td><td>{\"name\": \"Chennai\", \"country\": \"India\", \"region\": \"Tamil Nadu\", \"lat\": 13.0833, \"lon\": 80.2833, \"localtime\": \"2025-02-17 23:21\", \"temp_c\": 27.0, \"is_day\": 0, \"condition\": \"Mist\", \"condition_icon\": \"//cdn.weatherapi.com/weather/64x64/night/143.png\", \"wind_kph\": 11.2, \"wind_dir\": \"ESE\", \"wind_degree\": 106, \"pressure_in\": 29.94, \"precip_in\": 0.0, \"cloud\": 25, \"humidity\": 79, \"feelslike_c\": 29.5, \"uv\": 0.0, \"air_quality\": {\"co\": 471.75, \"no2\": 10.545, \"o3\": 96.0, \"so2\": 10.73, \"pm2_5\": 68.45, \"pm10\": 79.55, \"us-epa-index\": 4, \"gb-defra-index\": 9}, \"alerts\": [], \"forecast\": [{\"date\": \"2025-02-17\", \"maxtemp_c\": 28.3, \"mintemp_c\": 23.5, \"condition\": \"Sunny\"}, {\"date\": \"2025-02-18\", \"maxtemp_c\": 28.2, \"mintemp_c\": 22.8, \"condition\": \"Sunny\"}, {\"date\": \"2025-02-19\", \"maxtemp_c\": 28.9, \"mintemp_c\": 22.5, \"condition\": \"Sunny\"}]}</td></tr><tr><td>2025-02-17T17:51:22.149Z</td><td>16</td><td>{\"name\": \"Chennai\", \"country\": \"India\", \"region\": \"Tamil Nadu\", \"lat\": 13.0833, \"lon\": 80.2833, \"localtime\": \"2025-02-17 23:21\", \"temp_c\": 27.0, \"is_day\": 0, \"condition\": \"Mist\", \"condition_icon\": \"//cdn.weatherapi.com/weather/64x64/night/143.png\", \"wind_kph\": 11.2, \"wind_dir\": \"ESE\", \"wind_degree\": 106, \"pressure_in\": 29.94, \"precip_in\": 0.0, \"cloud\": 25, \"humidity\": 79, \"feelslike_c\": 29.5, \"uv\": 0.0, \"air_quality\": {\"co\": 471.75, \"no2\": 10.545, \"o3\": 96.0, \"so2\": 10.73, \"pm2_5\": 68.45, \"pm10\": 79.55, \"us-epa-index\": 4, \"gb-defra-index\": 9}, \"alerts\": [], \"forecast\": [{\"date\": \"2025-02-17\", \"maxtemp_c\": 28.3, \"mintemp_c\": 23.5, \"condition\": \"Sunny\"}, {\"date\": \"2025-02-18\", \"maxtemp_c\": 28.2, \"mintemp_c\": 22.8, \"condition\": \"Sunny\"}, {\"date\": \"2025-02-19\", \"maxtemp_c\": 28.9, \"mintemp_c\": 22.5, \"condition\": \"Sunny\"}]}</td></tr><tr><td>2025-02-17T17:51:26.149Z</td><td>20</td><td>{\"name\": \"Chennai\", \"country\": \"India\", \"region\": \"Tamil Nadu\", \"lat\": 13.0833, \"lon\": 80.2833, \"localtime\": \"2025-02-17 23:21\", \"temp_c\": 27.0, \"is_day\": 0, \"condition\": \"Mist\", \"condition_icon\": \"//cdn.weatherapi.com/weather/64x64/night/143.png\", \"wind_kph\": 11.2, \"wind_dir\": \"ESE\", \"wind_degree\": 106, \"pressure_in\": 29.94, \"precip_in\": 0.0, \"cloud\": 25, \"humidity\": 79, \"feelslike_c\": 29.5, \"uv\": 0.0, \"air_quality\": {\"co\": 471.75, \"no2\": 10.545, \"o3\": 96.0, \"so2\": 10.73, \"pm2_5\": 68.45, \"pm10\": 79.55, \"us-epa-index\": 4, \"gb-defra-index\": 9}, \"alerts\": [], \"forecast\": [{\"date\": \"2025-02-17\", \"maxtemp_c\": 28.3, \"mintemp_c\": 23.5, \"condition\": \"Sunny\"}, {\"date\": \"2025-02-18\", \"maxtemp_c\": 28.2, \"mintemp_c\": 22.8, \"condition\": \"Sunny\"}, {\"date\": \"2025-02-19\", \"maxtemp_c\": 28.9, \"mintemp_c\": 22.5, \"condition\": \"Sunny\"}]}</td></tr><tr><td>2025-02-17T17:51:22.888Z</td><td>17</td><td>{\"name\": \"Chennai\", \"country\": \"India\", \"region\": \"Tamil Nadu\", \"lat\": 13.0833, \"lon\": 80.2833, \"localtime\": \"2025-02-17 23:21\", \"temp_c\": 27.0, \"is_day\": 0, \"condition\": \"Mist\", \"condition_icon\": \"//cdn.weatherapi.com/weather/64x64/night/143.png\", \"wind_kph\": 11.2, \"wind_dir\": \"ESE\", \"wind_degree\": 106, \"pressure_in\": 29.94, \"precip_in\": 0.0, \"cloud\": 25, \"humidity\": 79, \"feelslike_c\": 29.5, \"uv\": 0.0, \"air_quality\": {\"co\": 471.75, \"no2\": 10.545, \"o3\": 96.0, \"so2\": 10.73, \"pm2_5\": 68.45, \"pm10\": 79.55, \"us-epa-index\": 4, \"gb-defra-index\": 9}, \"alerts\": [], \"forecast\": [{\"date\": \"2025-02-17\", \"maxtemp_c\": 28.3, \"mintemp_c\": 23.5, \"condition\": \"Sunny\"}, {\"date\": \"2025-02-18\", \"maxtemp_c\": 28.2, \"mintemp_c\": 22.8, \"condition\": \"Sunny\"}, {\"date\": \"2025-02-19\", \"maxtemp_c\": 28.9, \"mintemp_c\": 22.5, \"condition\": \"Sunny\"}]}</td></tr><tr><td>2025-02-17T17:51:24.149Z</td><td>18</td><td>{\"name\": \"Chennai\", \"country\": \"India\", \"region\": \"Tamil Nadu\", \"lat\": 13.0833, \"lon\": 80.2833, \"localtime\": \"2025-02-17 23:21\", \"temp_c\": 27.0, \"is_day\": 0, \"condition\": \"Mist\", \"condition_icon\": \"//cdn.weatherapi.com/weather/64x64/night/143.png\", \"wind_kph\": 11.2, \"wind_dir\": \"ESE\", \"wind_degree\": 106, \"pressure_in\": 29.94, \"precip_in\": 0.0, \"cloud\": 25, \"humidity\": 79, \"feelslike_c\": 29.5, \"uv\": 0.0, \"air_quality\": {\"co\": 471.75, \"no2\": 10.545, \"o3\": 96.0, \"so2\": 10.73, \"pm2_5\": 68.45, \"pm10\": 79.55, \"us-epa-index\": 4, \"gb-defra-index\": 9}, \"alerts\": [], \"forecast\": [{\"date\": \"2025-02-17\", \"maxtemp_c\": 28.3, \"mintemp_c\": 23.5, \"condition\": \"Sunny\"}, {\"date\": \"2025-02-18\", \"maxtemp_c\": 28.2, \"mintemp_c\": 22.8, \"condition\": \"Sunny\"}, {\"date\": \"2025-02-19\", \"maxtemp_c\": 28.9, \"mintemp_c\": 22.5, \"condition\": \"Sunny\"}]}</td></tr><tr><td>2025-02-17T17:51:21.888Z</td><td>16</td><td>{\"name\": \"Chennai\", \"country\": \"India\", \"region\": \"Tamil Nadu\", \"lat\": 13.0833, \"lon\": 80.2833, \"localtime\": \"2025-02-17 23:21\", \"temp_c\": 27.0, \"is_day\": 0, \"condition\": \"Mist\", \"condition_icon\": \"//cdn.weatherapi.com/weather/64x64/night/143.png\", \"wind_kph\": 11.2, \"wind_dir\": \"ESE\", \"wind_degree\": 106, \"pressure_in\": 29.94, \"precip_in\": 0.0, \"cloud\": 25, \"humidity\": 79, \"feelslike_c\": 29.5, \"uv\": 0.0, \"air_quality\": {\"co\": 471.75, \"no2\": 10.545, \"o3\": 96.0, \"so2\": 10.73, \"pm2_5\": 68.45, \"pm10\": 79.55, \"us-epa-index\": 4, \"gb-defra-index\": 9}, \"alerts\": [], \"forecast\": [{\"date\": \"2025-02-17\", \"maxtemp_c\": 28.3, \"mintemp_c\": 23.5, \"condition\": \"Sunny\"}, {\"date\": \"2025-02-18\", \"maxtemp_c\": 28.2, \"mintemp_c\": 22.8, \"condition\": \"Sunny\"}, {\"date\": \"2025-02-19\", \"maxtemp_c\": 28.9, \"mintemp_c\": 22.5, \"condition\": \"Sunny\"}]}</td></tr><tr><td>2025-02-17T17:51:25.149Z</td><td>19</td><td>{\"name\": \"Chennai\", \"country\": \"India\", \"region\": \"Tamil Nadu\", \"lat\": 13.0833, \"lon\": 80.2833, \"localtime\": \"2025-02-17 23:21\", \"temp_c\": 27.0, \"is_day\": 0, \"condition\": \"Mist\", \"condition_icon\": \"//cdn.weatherapi.com/weather/64x64/night/143.png\", \"wind_kph\": 11.2, \"wind_dir\": \"ESE\", \"wind_degree\": 106, \"pressure_in\": 29.94, \"precip_in\": 0.0, \"cloud\": 25, \"humidity\": 79, \"feelslike_c\": 29.5, \"uv\": 0.0, \"air_quality\": {\"co\": 471.75, \"no2\": 10.545, \"o3\": 96.0, \"so2\": 10.73, \"pm2_5\": 68.45, \"pm10\": 79.55, \"us-epa-index\": 4, \"gb-defra-index\": 9}, \"alerts\": [], \"forecast\": [{\"date\": \"2025-02-17\", \"maxtemp_c\": 28.3, \"mintemp_c\": 23.5, \"condition\": \"Sunny\"}, {\"date\": \"2025-02-18\", \"maxtemp_c\": 28.2, \"mintemp_c\": 22.8, \"condition\": \"Sunny\"}, {\"date\": \"2025-02-19\", \"maxtemp_c\": 28.9, \"mintemp_c\": 22.5, \"condition\": \"Sunny\"}]}</td></tr><tr><td>2025-02-17T17:51:23.149Z</td><td>17</td><td>{\"name\": \"Chennai\", \"country\": \"India\", \"region\": \"Tamil Nadu\", \"lat\": 13.0833, \"lon\": 80.2833, \"localtime\": \"2025-02-17 23:21\", \"temp_c\": 27.0, \"is_day\": 0, \"condition\": \"Mist\", \"condition_icon\": \"//cdn.weatherapi.com/weather/64x64/night/143.png\", \"wind_kph\": 11.2, \"wind_dir\": \"ESE\", \"wind_degree\": 106, \"pressure_in\": 29.94, \"precip_in\": 0.0, \"cloud\": 25, \"humidity\": 79, \"feelslike_c\": 29.5, \"uv\": 0.0, \"air_quality\": {\"co\": 471.75, \"no2\": 10.545, \"o3\": 96.0, \"so2\": 10.73, \"pm2_5\": 68.45, \"pm10\": 79.55, \"us-epa-index\": 4, \"gb-defra-index\": 9}, \"alerts\": [], \"forecast\": [{\"date\": \"2025-02-17\", \"maxtemp_c\": 28.3, \"mintemp_c\": 23.5, \"condition\": \"Sunny\"}, {\"date\": \"2025-02-18\", \"maxtemp_c\": 28.2, \"mintemp_c\": 22.8, \"condition\": \"Sunny\"}, {\"date\": \"2025-02-19\", \"maxtemp_c\": 28.9, \"mintemp_c\": 22.5, \"condition\": \"Sunny\"}]}</td></tr><tr><td>2025-02-17T17:51:23.888Z</td><td>18</td><td>{\"name\": \"Chennai\", \"country\": \"India\", \"region\": \"Tamil Nadu\", \"lat\": 13.0833, \"lon\": 80.2833, \"localtime\": \"2025-02-17 23:21\", \"temp_c\": 27.0, \"is_day\": 0, \"condition\": \"Mist\", \"condition_icon\": \"//cdn.weatherapi.com/weather/64x64/night/143.png\", \"wind_kph\": 11.2, \"wind_dir\": \"ESE\", \"wind_degree\": 106, \"pressure_in\": 29.94, \"precip_in\": 0.0, \"cloud\": 25, \"humidity\": 79, \"feelslike_c\": 29.5, \"uv\": 0.0, \"air_quality\": {\"co\": 471.75, \"no2\": 10.545, \"o3\": 96.0, \"so2\": 10.73, \"pm2_5\": 68.45, \"pm10\": 79.55, \"us-epa-index\": 4, \"gb-defra-index\": 9}, \"alerts\": [], \"forecast\": [{\"date\": \"2025-02-17\", \"maxtemp_c\": 28.3, \"mintemp_c\": 23.5, \"condition\": \"Sunny\"}, {\"date\": \"2025-02-18\", \"maxtemp_c\": 28.2, \"mintemp_c\": 22.8, \"condition\": \"Sunny\"}, {\"date\": \"2025-02-19\", \"maxtemp_c\": 28.9, \"mintemp_c\": 22.5, \"condition\": \"Sunny\"}]}</td></tr><tr><td>2025-02-17T17:51:25.888Z</td><td>20</td><td>{\"name\": \"Chennai\", \"country\": \"India\", \"region\": \"Tamil Nadu\", \"lat\": 13.0833, \"lon\": 80.2833, \"localtime\": \"2025-02-17 23:21\", \"temp_c\": 27.0, \"is_day\": 0, \"condition\": \"Mist\", \"condition_icon\": \"//cdn.weatherapi.com/weather/64x64/night/143.png\", \"wind_kph\": 11.2, \"wind_dir\": \"ESE\", \"wind_degree\": 106, \"pressure_in\": 29.94, \"precip_in\": 0.0, \"cloud\": 25, \"humidity\": 79, \"feelslike_c\": 29.5, \"uv\": 0.0, \"air_quality\": {\"co\": 471.75, \"no2\": 10.545, \"o3\": 96.0, \"so2\": 10.73, \"pm2_5\": 68.45, \"pm10\": 79.55, \"us-epa-index\": 4, \"gb-defra-index\": 9}, \"alerts\": [], \"forecast\": [{\"date\": \"2025-02-17\", \"maxtemp_c\": 28.3, \"mintemp_c\": 23.5, \"condition\": \"Sunny\"}, {\"date\": \"2025-02-18\", \"maxtemp_c\": 28.2, \"mintemp_c\": 22.8, \"condition\": \"Sunny\"}, {\"date\": \"2025-02-19\", \"maxtemp_c\": 28.9, \"mintemp_c\": 22.5, \"condition\": \"Sunny\"}]}</td></tr><tr><td>2025-02-17T17:51:26.888Z</td><td>21</td><td>{\"name\": \"Chennai\", \"country\": \"India\", \"region\": \"Tamil Nadu\", \"lat\": 13.0833, \"lon\": 80.2833, \"localtime\": \"2025-02-17 23:21\", \"temp_c\": 27.0, \"is_day\": 0, \"condition\": \"Mist\", \"condition_icon\": \"//cdn.weatherapi.com/weather/64x64/night/143.png\", \"wind_kph\": 11.2, \"wind_dir\": \"ESE\", \"wind_degree\": 106, \"pressure_in\": 29.94, \"precip_in\": 0.0, \"cloud\": 25, \"humidity\": 79, \"feelslike_c\": 29.5, \"uv\": 0.0, \"air_quality\": {\"co\": 471.75, \"no2\": 10.545, \"o3\": 96.0, \"so2\": 10.73, \"pm2_5\": 68.45, \"pm10\": 79.55, \"us-epa-index\": 4, \"gb-defra-index\": 9}, \"alerts\": [], \"forecast\": [{\"date\": \"2025-02-17\", \"maxtemp_c\": 28.3, \"mintemp_c\": 23.5, \"condition\": \"Sunny\"}, {\"date\": \"2025-02-18\", \"maxtemp_c\": 28.2, \"mintemp_c\": 22.8, \"condition\": \"Sunny\"}, {\"date\": \"2025-02-19\", \"maxtemp_c\": 28.9, \"mintemp_c\": 22.5, \"condition\": \"Sunny\"}]}</td></tr><tr><td>2025-02-17T17:51:07.888Z</td><td>2</td><td>{\"name\": \"Chennai\", \"country\": \"India\", \"region\": \"Tamil Nadu\", \"lat\": 13.0833, \"lon\": 80.2833, \"localtime\": \"2025-02-17 23:21\", \"temp_c\": 27.0, \"is_day\": 0, \"condition\": \"Mist\", \"condition_icon\": \"//cdn.weatherapi.com/weather/64x64/night/143.png\", \"wind_kph\": 11.2, \"wind_dir\": \"ESE\", \"wind_degree\": 106, \"pressure_in\": 29.94, \"precip_in\": 0.0, \"cloud\": 25, \"humidity\": 79, \"feelslike_c\": 29.5, \"uv\": 0.0, \"air_quality\": {\"co\": 471.75, \"no2\": 10.545, \"o3\": 96.0, \"so2\": 10.73, \"pm2_5\": 68.45, \"pm10\": 79.55, \"us-epa-index\": 4, \"gb-defra-index\": 9}, \"alerts\": [], \"forecast\": [{\"date\": \"2025-02-17\", \"maxtemp_c\": 28.3, \"mintemp_c\": 23.5, \"condition\": \"Sunny\"}, {\"date\": \"2025-02-18\", \"maxtemp_c\": 28.2, \"mintemp_c\": 22.8, \"condition\": \"Sunny\"}, {\"date\": \"2025-02-19\", \"maxtemp_c\": 28.9, \"mintemp_c\": 22.5, \"condition\": \"Sunny\"}]}</td></tr><tr><td>2025-02-17T17:51:16.149Z</td><td>10</td><td>{\"name\": \"Chennai\", \"country\": \"India\", \"region\": \"Tamil Nadu\", \"lat\": 13.0833, \"lon\": 80.2833, \"localtime\": \"2025-02-17 23:21\", \"temp_c\": 27.0, \"is_day\": 0, \"condition\": \"Mist\", \"condition_icon\": \"//cdn.weatherapi.com/weather/64x64/night/143.png\", \"wind_kph\": 11.2, \"wind_dir\": \"ESE\", \"wind_degree\": 106, \"pressure_in\": 29.94, \"precip_in\": 0.0, \"cloud\": 25, \"humidity\": 79, \"feelslike_c\": 29.5, \"uv\": 0.0, \"air_quality\": {\"co\": 471.75, \"no2\": 10.545, \"o3\": 96.0, \"so2\": 10.73, \"pm2_5\": 68.45, \"pm10\": 79.55, \"us-epa-index\": 4, \"gb-defra-index\": 9}, \"alerts\": [], \"forecast\": [{\"date\": \"2025-02-17\", \"maxtemp_c\": 28.3, \"mintemp_c\": 23.5, \"condition\": \"Sunny\"}, {\"date\": \"2025-02-18\", \"maxtemp_c\": 28.2, \"mintemp_c\": 22.8, \"condition\": \"Sunny\"}, {\"date\": \"2025-02-19\", \"maxtemp_c\": 28.9, \"mintemp_c\": 22.5, \"condition\": \"Sunny\"}]}</td></tr><tr><td>2025-02-17T17:51:15.888Z</td><td>10</td><td>{\"name\": \"Chennai\", \"country\": \"India\", \"region\": \"Tamil Nadu\", \"lat\": 13.0833, \"lon\": 80.2833, \"localtime\": \"2025-02-17 23:21\", \"temp_c\": 27.0, \"is_day\": 0, \"condition\": \"Mist\", \"condition_icon\": \"//cdn.weatherapi.com/weather/64x64/night/143.png\", \"wind_kph\": 11.2, \"wind_dir\": \"ESE\", \"wind_degree\": 106, \"pressure_in\": 29.94, \"precip_in\": 0.0, \"cloud\": 25, \"humidity\": 79, \"feelslike_c\": 29.5, \"uv\": 0.0, \"air_quality\": {\"co\": 471.75, \"no2\": 10.545, \"o3\": 96.0, \"so2\": 10.73, \"pm2_5\": 68.45, \"pm10\": 79.55, \"us-epa-index\": 4, \"gb-defra-index\": 9}, \"alerts\": [], \"forecast\": [{\"date\": \"2025-02-17\", \"maxtemp_c\": 28.3, \"mintemp_c\": 23.5, \"condition\": \"Sunny\"}, {\"date\": \"2025-02-18\", \"maxtemp_c\": 28.2, \"mintemp_c\": 22.8, \"condition\": \"Sunny\"}, {\"date\": \"2025-02-19\", \"maxtemp_c\": 28.9, \"mintemp_c\": 22.5, \"condition\": \"Sunny\"}]}</td></tr><tr><td>2025-02-17T17:51:20.149Z</td><td>14</td><td>{\"name\": \"Chennai\", \"country\": \"India\", \"region\": \"Tamil Nadu\", \"lat\": 13.0833, \"lon\": 80.2833, \"localtime\": \"2025-02-17 23:21\", \"temp_c\": 27.0, \"is_day\": 0, \"condition\": \"Mist\", \"condition_icon\": \"//cdn.weatherapi.com/weather/64x64/night/143.png\", \"wind_kph\": 11.2, \"wind_dir\": \"ESE\", \"wind_degree\": 106, \"pressure_in\": 29.94, \"precip_in\": 0.0, \"cloud\": 25, \"humidity\": 79, \"feelslike_c\": 29.5, \"uv\": 0.0, \"air_quality\": {\"co\": 471.75, \"no2\": 10.545, \"o3\": 96.0, \"so2\": 10.73, \"pm2_5\": 68.45, \"pm10\": 79.55, \"us-epa-index\": 4, \"gb-defra-index\": 9}, \"alerts\": [], \"forecast\": [{\"date\": \"2025-02-17\", \"maxtemp_c\": 28.3, \"mintemp_c\": 23.5, \"condition\": \"Sunny\"}, {\"date\": \"2025-02-18\", \"maxtemp_c\": 28.2, \"mintemp_c\": 22.8, \"condition\": \"Sunny\"}, {\"date\": \"2025-02-19\", \"maxtemp_c\": 28.9, \"mintemp_c\": 22.5, \"condition\": \"Sunny\"}]}</td></tr><tr><td>2025-02-17T17:51:24.888Z</td><td>19</td><td>{\"name\": \"Chennai\", \"country\": \"India\", \"region\": \"Tamil Nadu\", \"lat\": 13.0833, \"lon\": 80.2833, \"localtime\": \"2025-02-17 23:21\", \"temp_c\": 27.0, \"is_day\": 0, \"condition\": \"Mist\", \"condition_icon\": \"//cdn.weatherapi.com/weather/64x64/night/143.png\", \"wind_kph\": 11.2, \"wind_dir\": \"ESE\", \"wind_degree\": 106, \"pressure_in\": 29.94, \"precip_in\": 0.0, \"cloud\": 25, \"humidity\": 79, \"feelslike_c\": 29.5, \"uv\": 0.0, \"air_quality\": {\"co\": 471.75, \"no2\": 10.545, \"o3\": 96.0, \"so2\": 10.73, \"pm2_5\": 68.45, \"pm10\": 79.55, \"us-epa-index\": 4, \"gb-defra-index\": 9}, \"alerts\": [], \"forecast\": [{\"date\": \"2025-02-17\", \"maxtemp_c\": 28.3, \"mintemp_c\": 23.5, \"condition\": \"Sunny\"}, {\"date\": \"2025-02-18\", \"maxtemp_c\": 28.2, \"mintemp_c\": 22.8, \"condition\": \"Sunny\"}, {\"date\": \"2025-02-19\", \"maxtemp_c\": 28.9, \"mintemp_c\": 22.5, \"condition\": \"Sunny\"}]}</td></tr><tr><td>2025-02-17T17:34:51.725Z</td><td>0</td><td>null</td></tr><tr><td>2025-02-17T17:35:09.725Z</td><td>18</td><td>null</td></tr><tr><td>2025-02-17T17:35:03.443Z</td><td>12</td><td>null</td></tr><tr><td>2025-02-17T17:35:00.725Z</td><td>9</td><td>null</td></tr><tr><td>2025-02-17T17:35:05.443Z</td><td>14</td><td>null</td></tr><tr><td>2025-02-17T17:35:12.443Z</td><td>21</td><td>null</td></tr><tr><td>2025-02-17T17:35:06.725Z</td><td>15</td><td>null</td></tr><tr><td>2025-02-17T17:35:02.725Z</td><td>11</td><td>null</td></tr><tr><td>2025-02-17T17:35:10.443Z</td><td>19</td><td>null</td></tr><tr><td>2025-02-17T17:35:19.725Z</td><td>28</td><td>null</td></tr><tr><td>2025-02-17T17:35:15.725Z</td><td>24</td><td>null</td></tr><tr><td>2025-02-17T17:35:23.443Z</td><td>32</td><td>null</td></tr><tr><td>2025-02-17T17:35:15.443Z</td><td>24</td><td>null</td></tr><tr><td>2025-02-17T17:35:13.725Z</td><td>22</td><td>null</td></tr><tr><td>2025-02-17T17:35:17.725Z</td><td>26</td><td>null</td></tr><tr><td>2025-02-17T17:34:59.443Z</td><td>8</td><td>null</td></tr><tr><td>2025-02-17T17:35:04.725Z</td><td>13</td><td>null</td></tr><tr><td>2025-02-17T17:34:56.443Z</td><td>5</td><td>null</td></tr><tr><td>2025-02-17T17:34:58.725Z</td><td>7</td><td>null</td></tr><tr><td>2025-02-17T17:35:11.725Z</td><td>20</td><td>null</td></tr><tr><td>2025-02-17T17:35:17.443Z</td><td>26</td><td>null</td></tr><tr><td>2025-02-17T17:34:54.725Z</td><td>3</td><td>null</td></tr><tr><td>2025-02-17T17:35:19.443Z</td><td>28</td><td>null</td></tr><tr><td>2025-02-17T17:34:55.725Z</td><td>4</td><td>null</td></tr><tr><td>2025-02-17T17:35:22.725Z</td><td>31</td><td>null</td></tr><tr><td>2025-02-17T17:35:06.443Z</td><td>15</td><td>null</td></tr><tr><td>2025-02-17T17:35:07.725Z</td><td>16</td><td>null</td></tr><tr><td>2025-02-17T17:35:00.443Z</td><td>9</td><td>null</td></tr><tr><td>2025-02-17T17:35:14.725Z</td><td>23</td><td>null</td></tr><tr><td>2025-02-17T17:35:18.443Z</td><td>27</td><td>null</td></tr><tr><td>2025-02-17T17:35:04.443Z</td><td>13</td><td>null</td></tr><tr><td>2025-02-17T17:35:05.725Z</td><td>14</td><td>null</td></tr><tr><td>2025-02-17T17:35:12.725Z</td><td>21</td><td>null</td></tr><tr><td>2025-02-17T17:35:03.725Z</td><td>12</td><td>null</td></tr><tr><td>2025-02-17T17:35:20.443Z</td><td>29</td><td>null</td></tr><tr><td>2025-02-17T17:35:24.443Z</td><td>33</td><td>null</td></tr><tr><td>2025-02-17T17:34:59.725Z</td><td>8</td><td>null</td></tr><tr><td>2025-02-17T17:35:20.725Z</td><td>29</td><td>null</td></tr><tr><td>2025-02-17T17:35:10.725Z</td><td>19</td><td>null</td></tr><tr><td>2025-02-17T17:35:11.443Z</td><td>20</td><td>null</td></tr><tr><td>2025-02-17T17:35:22.443Z</td><td>31</td><td>null</td></tr><tr><td>2025-02-17T17:35:02.443Z</td><td>11</td><td>null</td></tr><tr><td>2025-02-17T17:34:52.443Z</td><td>1</td><td>null</td></tr><tr><td>2025-02-17T17:35:18.725Z</td><td>27</td><td>null</td></tr><tr><td>2025-02-17T17:35:09.443Z</td><td>18</td><td>null</td></tr><tr><td>2025-02-17T17:35:16.443Z</td><td>25</td><td>null</td></tr><tr><td>2025-02-17T17:35:08.725Z</td><td>17</td><td>null</td></tr><tr><td>2025-02-17T17:35:14.443Z</td><td>23</td><td>null</td></tr><tr><td>2025-02-17T17:34:58.443Z</td><td>7</td><td>null</td></tr><tr><td>2025-02-17T17:34:53.443Z</td><td>2</td><td>null</td></tr><tr><td>2025-02-17T17:34:53.725Z</td><td>2</td><td>null</td></tr><tr><td>2025-02-17T17:34:56.725Z</td><td>5</td><td>null</td></tr><tr><td>2025-02-17T17:34:57.725Z</td><td>6</td><td>null</td></tr><tr><td>2025-02-17T17:34:54.443Z</td><td>3</td><td>null</td></tr><tr><td>2025-02-17T17:35:21.725Z</td><td>30</td><td>null</td></tr><tr><td>2025-02-17T17:35:21.443Z</td><td>30</td><td>null</td></tr><tr><td>2025-02-17T17:35:01.443Z</td><td>10</td><td>null</td></tr><tr><td>2025-02-17T17:35:08.443Z</td><td>17</td><td>null</td></tr><tr><td>2025-02-17T17:34:57.443Z</td><td>6</td><td>null</td></tr><tr><td>2025-02-17T17:34:52.725Z</td><td>1</td><td>null</td></tr><tr><td>2025-02-17T17:35:01.725Z</td><td>10</td><td>null</td></tr><tr><td>2025-02-17T17:35:16.725Z</td><td>25</td><td>null</td></tr><tr><td>2025-02-17T17:35:07.443Z</td><td>16</td><td>null</td></tr><tr><td>2025-02-17T17:35:13.443Z</td><td>22</td><td>null</td></tr><tr><td>2025-02-17T17:34:51.443Z</td><td>0</td><td>null</td></tr><tr><td>2025-02-17T17:34:55.443Z</td><td>4</td><td>null</td></tr></tbody></table></div>"
      ]
     },
     "metadata": {
      "application/vnd.databricks.v1+output": {
       "addedWidgets": {},
       "aggData": [],
       "aggError": "",
       "aggOverflow": false,
       "aggSchema": [],
       "aggSeriesLimitReached": false,
       "aggType": "",
       "arguments": {},
       "columnCustomDisplayInfos": {},
       "data": [
        [
         "2025-02-17T17:51:06.149Z",
         0,
         "{\"name\": \"Chennai\", \"country\": \"India\", \"region\": \"Tamil Nadu\", \"lat\": 13.0833, \"lon\": 80.2833, \"localtime\": \"2025-02-17 23:21\", \"temp_c\": 27.0, \"is_day\": 0, \"condition\": \"Mist\", \"condition_icon\": \"//cdn.weatherapi.com/weather/64x64/night/143.png\", \"wind_kph\": 11.2, \"wind_dir\": \"ESE\", \"wind_degree\": 106, \"pressure_in\": 29.94, \"precip_in\": 0.0, \"cloud\": 25, \"humidity\": 79, \"feelslike_c\": 29.5, \"uv\": 0.0, \"air_quality\": {\"co\": 471.75, \"no2\": 10.545, \"o3\": 96.0, \"so2\": 10.73, \"pm2_5\": 68.45, \"pm10\": 79.55, \"us-epa-index\": 4, \"gb-defra-index\": 9}, \"alerts\": [], \"forecast\": [{\"date\": \"2025-02-17\", \"maxtemp_c\": 28.3, \"mintemp_c\": 23.5, \"condition\": \"Sunny\"}, {\"date\": \"2025-02-18\", \"maxtemp_c\": 28.2, \"mintemp_c\": 22.8, \"condition\": \"Sunny\"}, {\"date\": \"2025-02-19\", \"maxtemp_c\": 28.9, \"mintemp_c\": 22.5, \"condition\": \"Sunny\"}]}"
        ],
        [
         "2025-02-17T17:51:09.149Z",
         3,
         "{\"name\": \"Chennai\", \"country\": \"India\", \"region\": \"Tamil Nadu\", \"lat\": 13.0833, \"lon\": 80.2833, \"localtime\": \"2025-02-17 23:21\", \"temp_c\": 27.0, \"is_day\": 0, \"condition\": \"Mist\", \"condition_icon\": \"//cdn.weatherapi.com/weather/64x64/night/143.png\", \"wind_kph\": 11.2, \"wind_dir\": \"ESE\", \"wind_degree\": 106, \"pressure_in\": 29.94, \"precip_in\": 0.0, \"cloud\": 25, \"humidity\": 79, \"feelslike_c\": 29.5, \"uv\": 0.0, \"air_quality\": {\"co\": 471.75, \"no2\": 10.545, \"o3\": 96.0, \"so2\": 10.73, \"pm2_5\": 68.45, \"pm10\": 79.55, \"us-epa-index\": 4, \"gb-defra-index\": 9}, \"alerts\": [], \"forecast\": [{\"date\": \"2025-02-17\", \"maxtemp_c\": 28.3, \"mintemp_c\": 23.5, \"condition\": \"Sunny\"}, {\"date\": \"2025-02-18\", \"maxtemp_c\": 28.2, \"mintemp_c\": 22.8, \"condition\": \"Sunny\"}, {\"date\": \"2025-02-19\", \"maxtemp_c\": 28.9, \"mintemp_c\": 22.5, \"condition\": \"Sunny\"}]}"
        ],
        [
         "2025-02-17T17:51:05.888Z",
         0,
         "{\"name\": \"Chennai\", \"country\": \"India\", \"region\": \"Tamil Nadu\", \"lat\": 13.0833, \"lon\": 80.2833, \"localtime\": \"2025-02-17 23:21\", \"temp_c\": 27.0, \"is_day\": 0, \"condition\": \"Mist\", \"condition_icon\": \"//cdn.weatherapi.com/weather/64x64/night/143.png\", \"wind_kph\": 11.2, \"wind_dir\": \"ESE\", \"wind_degree\": 106, \"pressure_in\": 29.94, \"precip_in\": 0.0, \"cloud\": 25, \"humidity\": 79, \"feelslike_c\": 29.5, \"uv\": 0.0, \"air_quality\": {\"co\": 471.75, \"no2\": 10.545, \"o3\": 96.0, \"so2\": 10.73, \"pm2_5\": 68.45, \"pm10\": 79.55, \"us-epa-index\": 4, \"gb-defra-index\": 9}, \"alerts\": [], \"forecast\": [{\"date\": \"2025-02-17\", \"maxtemp_c\": 28.3, \"mintemp_c\": 23.5, \"condition\": \"Sunny\"}, {\"date\": \"2025-02-18\", \"maxtemp_c\": 28.2, \"mintemp_c\": 22.8, \"condition\": \"Sunny\"}, {\"date\": \"2025-02-19\", \"maxtemp_c\": 28.9, \"mintemp_c\": 22.5, \"condition\": \"Sunny\"}]}"
        ],
        [
         "2025-02-17T17:51:06.888Z",
         1,
         "{\"name\": \"Chennai\", \"country\": \"India\", \"region\": \"Tamil Nadu\", \"lat\": 13.0833, \"lon\": 80.2833, \"localtime\": \"2025-02-17 23:21\", \"temp_c\": 27.0, \"is_day\": 0, \"condition\": \"Mist\", \"condition_icon\": \"//cdn.weatherapi.com/weather/64x64/night/143.png\", \"wind_kph\": 11.2, \"wind_dir\": \"ESE\", \"wind_degree\": 106, \"pressure_in\": 29.94, \"precip_in\": 0.0, \"cloud\": 25, \"humidity\": 79, \"feelslike_c\": 29.5, \"uv\": 0.0, \"air_quality\": {\"co\": 471.75, \"no2\": 10.545, \"o3\": 96.0, \"so2\": 10.73, \"pm2_5\": 68.45, \"pm10\": 79.55, \"us-epa-index\": 4, \"gb-defra-index\": 9}, \"alerts\": [], \"forecast\": [{\"date\": \"2025-02-17\", \"maxtemp_c\": 28.3, \"mintemp_c\": 23.5, \"condition\": \"Sunny\"}, {\"date\": \"2025-02-18\", \"maxtemp_c\": 28.2, \"mintemp_c\": 22.8, \"condition\": \"Sunny\"}, {\"date\": \"2025-02-19\", \"maxtemp_c\": 28.9, \"mintemp_c\": 22.5, \"condition\": \"Sunny\"}]}"
        ],
        [
         "2025-02-17T17:51:07.149Z",
         1,
         "{\"name\": \"Chennai\", \"country\": \"India\", \"region\": \"Tamil Nadu\", \"lat\": 13.0833, \"lon\": 80.2833, \"localtime\": \"2025-02-17 23:21\", \"temp_c\": 27.0, \"is_day\": 0, \"condition\": \"Mist\", \"condition_icon\": \"//cdn.weatherapi.com/weather/64x64/night/143.png\", \"wind_kph\": 11.2, \"wind_dir\": \"ESE\", \"wind_degree\": 106, \"pressure_in\": 29.94, \"precip_in\": 0.0, \"cloud\": 25, \"humidity\": 79, \"feelslike_c\": 29.5, \"uv\": 0.0, \"air_quality\": {\"co\": 471.75, \"no2\": 10.545, \"o3\": 96.0, \"so2\": 10.73, \"pm2_5\": 68.45, \"pm10\": 79.55, \"us-epa-index\": 4, \"gb-defra-index\": 9}, \"alerts\": [], \"forecast\": [{\"date\": \"2025-02-17\", \"maxtemp_c\": 28.3, \"mintemp_c\": 23.5, \"condition\": \"Sunny\"}, {\"date\": \"2025-02-18\", \"maxtemp_c\": 28.2, \"mintemp_c\": 22.8, \"condition\": \"Sunny\"}, {\"date\": \"2025-02-19\", \"maxtemp_c\": 28.9, \"mintemp_c\": 22.5, \"condition\": \"Sunny\"}]}"
        ],
        [
         "2025-02-17T17:51:08.149Z",
         2,
         "{\"name\": \"Chennai\", \"country\": \"India\", \"region\": \"Tamil Nadu\", \"lat\": 13.0833, \"lon\": 80.2833, \"localtime\": \"2025-02-17 23:21\", \"temp_c\": 27.0, \"is_day\": 0, \"condition\": \"Mist\", \"condition_icon\": \"//cdn.weatherapi.com/weather/64x64/night/143.png\", \"wind_kph\": 11.2, \"wind_dir\": \"ESE\", \"wind_degree\": 106, \"pressure_in\": 29.94, \"precip_in\": 0.0, \"cloud\": 25, \"humidity\": 79, \"feelslike_c\": 29.5, \"uv\": 0.0, \"air_quality\": {\"co\": 471.75, \"no2\": 10.545, \"o3\": 96.0, \"so2\": 10.73, \"pm2_5\": 68.45, \"pm10\": 79.55, \"us-epa-index\": 4, \"gb-defra-index\": 9}, \"alerts\": [], \"forecast\": [{\"date\": \"2025-02-17\", \"maxtemp_c\": 28.3, \"mintemp_c\": 23.5, \"condition\": \"Sunny\"}, {\"date\": \"2025-02-18\", \"maxtemp_c\": 28.2, \"mintemp_c\": 22.8, \"condition\": \"Sunny\"}, {\"date\": \"2025-02-19\", \"maxtemp_c\": 28.9, \"mintemp_c\": 22.5, \"condition\": \"Sunny\"}]}"
        ],
        [
         "2025-02-17T17:51:14.888Z",
         9,
         "{\"name\": \"Chennai\", \"country\": \"India\", \"region\": \"Tamil Nadu\", \"lat\": 13.0833, \"lon\": 80.2833, \"localtime\": \"2025-02-17 23:21\", \"temp_c\": 27.0, \"is_day\": 0, \"condition\": \"Mist\", \"condition_icon\": \"//cdn.weatherapi.com/weather/64x64/night/143.png\", \"wind_kph\": 11.2, \"wind_dir\": \"ESE\", \"wind_degree\": 106, \"pressure_in\": 29.94, \"precip_in\": 0.0, \"cloud\": 25, \"humidity\": 79, \"feelslike_c\": 29.5, \"uv\": 0.0, \"air_quality\": {\"co\": 471.75, \"no2\": 10.545, \"o3\": 96.0, \"so2\": 10.73, \"pm2_5\": 68.45, \"pm10\": 79.55, \"us-epa-index\": 4, \"gb-defra-index\": 9}, \"alerts\": [], \"forecast\": [{\"date\": \"2025-02-17\", \"maxtemp_c\": 28.3, \"mintemp_c\": 23.5, \"condition\": \"Sunny\"}, {\"date\": \"2025-02-18\", \"maxtemp_c\": 28.2, \"mintemp_c\": 22.8, \"condition\": \"Sunny\"}, {\"date\": \"2025-02-19\", \"maxtemp_c\": 28.9, \"mintemp_c\": 22.5, \"condition\": \"Sunny\"}]}"
        ],
        [
         "2025-02-17T17:51:08.888Z",
         3,
         "{\"name\": \"Chennai\", \"country\": \"India\", \"region\": \"Tamil Nadu\", \"lat\": 13.0833, \"lon\": 80.2833, \"localtime\": \"2025-02-17 23:21\", \"temp_c\": 27.0, \"is_day\": 0, \"condition\": \"Mist\", \"condition_icon\": \"//cdn.weatherapi.com/weather/64x64/night/143.png\", \"wind_kph\": 11.2, \"wind_dir\": \"ESE\", \"wind_degree\": 106, \"pressure_in\": 29.94, \"precip_in\": 0.0, \"cloud\": 25, \"humidity\": 79, \"feelslike_c\": 29.5, \"uv\": 0.0, \"air_quality\": {\"co\": 471.75, \"no2\": 10.545, \"o3\": 96.0, \"so2\": 10.73, \"pm2_5\": 68.45, \"pm10\": 79.55, \"us-epa-index\": 4, \"gb-defra-index\": 9}, \"alerts\": [], \"forecast\": [{\"date\": \"2025-02-17\", \"maxtemp_c\": 28.3, \"mintemp_c\": 23.5, \"condition\": \"Sunny\"}, {\"date\": \"2025-02-18\", \"maxtemp_c\": 28.2, \"mintemp_c\": 22.8, \"condition\": \"Sunny\"}, {\"date\": \"2025-02-19\", \"maxtemp_c\": 28.9, \"mintemp_c\": 22.5, \"condition\": \"Sunny\"}]}"
        ],
        [
         "2025-02-17T17:51:10.149Z",
         4,
         "{\"name\": \"Chennai\", \"country\": \"India\", \"region\": \"Tamil Nadu\", \"lat\": 13.0833, \"lon\": 80.2833, \"localtime\": \"2025-02-17 23:21\", \"temp_c\": 27.0, \"is_day\": 0, \"condition\": \"Mist\", \"condition_icon\": \"//cdn.weatherapi.com/weather/64x64/night/143.png\", \"wind_kph\": 11.2, \"wind_dir\": \"ESE\", \"wind_degree\": 106, \"pressure_in\": 29.94, \"precip_in\": 0.0, \"cloud\": 25, \"humidity\": 79, \"feelslike_c\": 29.5, \"uv\": 0.0, \"air_quality\": {\"co\": 471.75, \"no2\": 10.545, \"o3\": 96.0, \"so2\": 10.73, \"pm2_5\": 68.45, \"pm10\": 79.55, \"us-epa-index\": 4, \"gb-defra-index\": 9}, \"alerts\": [], \"forecast\": [{\"date\": \"2025-02-17\", \"maxtemp_c\": 28.3, \"mintemp_c\": 23.5, \"condition\": \"Sunny\"}, {\"date\": \"2025-02-18\", \"maxtemp_c\": 28.2, \"mintemp_c\": 22.8, \"condition\": \"Sunny\"}, {\"date\": \"2025-02-19\", \"maxtemp_c\": 28.9, \"mintemp_c\": 22.5, \"condition\": \"Sunny\"}]}"
        ],
        [
         "2025-02-17T17:51:10.888Z",
         5,
         "{\"name\": \"Chennai\", \"country\": \"India\", \"region\": \"Tamil Nadu\", \"lat\": 13.0833, \"lon\": 80.2833, \"localtime\": \"2025-02-17 23:21\", \"temp_c\": 27.0, \"is_day\": 0, \"condition\": \"Mist\", \"condition_icon\": \"//cdn.weatherapi.com/weather/64x64/night/143.png\", \"wind_kph\": 11.2, \"wind_dir\": \"ESE\", \"wind_degree\": 106, \"pressure_in\": 29.94, \"precip_in\": 0.0, \"cloud\": 25, \"humidity\": 79, \"feelslike_c\": 29.5, \"uv\": 0.0, \"air_quality\": {\"co\": 471.75, \"no2\": 10.545, \"o3\": 96.0, \"so2\": 10.73, \"pm2_5\": 68.45, \"pm10\": 79.55, \"us-epa-index\": 4, \"gb-defra-index\": 9}, \"alerts\": [], \"forecast\": [{\"date\": \"2025-02-17\", \"maxtemp_c\": 28.3, \"mintemp_c\": 23.5, \"condition\": \"Sunny\"}, {\"date\": \"2025-02-18\", \"maxtemp_c\": 28.2, \"mintemp_c\": 22.8, \"condition\": \"Sunny\"}, {\"date\": \"2025-02-19\", \"maxtemp_c\": 28.9, \"mintemp_c\": 22.5, \"condition\": \"Sunny\"}]}"
        ],
        [
         "2025-02-17T17:51:12.149Z",
         6,
         "{\"name\": \"Chennai\", \"country\": \"India\", \"region\": \"Tamil Nadu\", \"lat\": 13.0833, \"lon\": 80.2833, \"localtime\": \"2025-02-17 23:21\", \"temp_c\": 27.0, \"is_day\": 0, \"condition\": \"Mist\", \"condition_icon\": \"//cdn.weatherapi.com/weather/64x64/night/143.png\", \"wind_kph\": 11.2, \"wind_dir\": \"ESE\", \"wind_degree\": 106, \"pressure_in\": 29.94, \"precip_in\": 0.0, \"cloud\": 25, \"humidity\": 79, \"feelslike_c\": 29.5, \"uv\": 0.0, \"air_quality\": {\"co\": 471.75, \"no2\": 10.545, \"o3\": 96.0, \"so2\": 10.73, \"pm2_5\": 68.45, \"pm10\": 79.55, \"us-epa-index\": 4, \"gb-defra-index\": 9}, \"alerts\": [], \"forecast\": [{\"date\": \"2025-02-17\", \"maxtemp_c\": 28.3, \"mintemp_c\": 23.5, \"condition\": \"Sunny\"}, {\"date\": \"2025-02-18\", \"maxtemp_c\": 28.2, \"mintemp_c\": 22.8, \"condition\": \"Sunny\"}, {\"date\": \"2025-02-19\", \"maxtemp_c\": 28.9, \"mintemp_c\": 22.5, \"condition\": \"Sunny\"}]}"
        ],
        [
         "2025-02-17T17:51:17.149Z",
         11,
         "{\"name\": \"Chennai\", \"country\": \"India\", \"region\": \"Tamil Nadu\", \"lat\": 13.0833, \"lon\": 80.2833, \"localtime\": \"2025-02-17 23:21\", \"temp_c\": 27.0, \"is_day\": 0, \"condition\": \"Mist\", \"condition_icon\": \"//cdn.weatherapi.com/weather/64x64/night/143.png\", \"wind_kph\": 11.2, \"wind_dir\": \"ESE\", \"wind_degree\": 106, \"pressure_in\": 29.94, \"precip_in\": 0.0, \"cloud\": 25, \"humidity\": 79, \"feelslike_c\": 29.5, \"uv\": 0.0, \"air_quality\": {\"co\": 471.75, \"no2\": 10.545, \"o3\": 96.0, \"so2\": 10.73, \"pm2_5\": 68.45, \"pm10\": 79.55, \"us-epa-index\": 4, \"gb-defra-index\": 9}, \"alerts\": [], \"forecast\": [{\"date\": \"2025-02-17\", \"maxtemp_c\": 28.3, \"mintemp_c\": 23.5, \"condition\": \"Sunny\"}, {\"date\": \"2025-02-18\", \"maxtemp_c\": 28.2, \"mintemp_c\": 22.8, \"condition\": \"Sunny\"}, {\"date\": \"2025-02-19\", \"maxtemp_c\": 28.9, \"mintemp_c\": 22.5, \"condition\": \"Sunny\"}]}"
        ],
        [
         "2025-02-17T17:51:11.888Z",
         6,
         "{\"name\": \"Chennai\", \"country\": \"India\", \"region\": \"Tamil Nadu\", \"lat\": 13.0833, \"lon\": 80.2833, \"localtime\": \"2025-02-17 23:21\", \"temp_c\": 27.0, \"is_day\": 0, \"condition\": \"Mist\", \"condition_icon\": \"//cdn.weatherapi.com/weather/64x64/night/143.png\", \"wind_kph\": 11.2, \"wind_dir\": \"ESE\", \"wind_degree\": 106, \"pressure_in\": 29.94, \"precip_in\": 0.0, \"cloud\": 25, \"humidity\": 79, \"feelslike_c\": 29.5, \"uv\": 0.0, \"air_quality\": {\"co\": 471.75, \"no2\": 10.545, \"o3\": 96.0, \"so2\": 10.73, \"pm2_5\": 68.45, \"pm10\": 79.55, \"us-epa-index\": 4, \"gb-defra-index\": 9}, \"alerts\": [], \"forecast\": [{\"date\": \"2025-02-17\", \"maxtemp_c\": 28.3, \"mintemp_c\": 23.5, \"condition\": \"Sunny\"}, {\"date\": \"2025-02-18\", \"maxtemp_c\": 28.2, \"mintemp_c\": 22.8, \"condition\": \"Sunny\"}, {\"date\": \"2025-02-19\", \"maxtemp_c\": 28.9, \"mintemp_c\": 22.5, \"condition\": \"Sunny\"}]}"
        ],
        [
         "2025-02-17T17:51:09.888Z",
         4,
         "{\"name\": \"Chennai\", \"country\": \"India\", \"region\": \"Tamil Nadu\", \"lat\": 13.0833, \"lon\": 80.2833, \"localtime\": \"2025-02-17 23:21\", \"temp_c\": 27.0, \"is_day\": 0, \"condition\": \"Mist\", \"condition_icon\": \"//cdn.weatherapi.com/weather/64x64/night/143.png\", \"wind_kph\": 11.2, \"wind_dir\": \"ESE\", \"wind_degree\": 106, \"pressure_in\": 29.94, \"precip_in\": 0.0, \"cloud\": 25, \"humidity\": 79, \"feelslike_c\": 29.5, \"uv\": 0.0, \"air_quality\": {\"co\": 471.75, \"no2\": 10.545, \"o3\": 96.0, \"so2\": 10.73, \"pm2_5\": 68.45, \"pm10\": 79.55, \"us-epa-index\": 4, \"gb-defra-index\": 9}, \"alerts\": [], \"forecast\": [{\"date\": \"2025-02-17\", \"maxtemp_c\": 28.3, \"mintemp_c\": 23.5, \"condition\": \"Sunny\"}, {\"date\": \"2025-02-18\", \"maxtemp_c\": 28.2, \"mintemp_c\": 22.8, \"condition\": \"Sunny\"}, {\"date\": \"2025-02-19\", \"maxtemp_c\": 28.9, \"mintemp_c\": 22.5, \"condition\": \"Sunny\"}]}"
        ],
        [
         "2025-02-17T17:51:11.149Z",
         5,
         "{\"name\": \"Chennai\", \"country\": \"India\", \"region\": \"Tamil Nadu\", \"lat\": 13.0833, \"lon\": 80.2833, \"localtime\": \"2025-02-17 23:21\", \"temp_c\": 27.0, \"is_day\": 0, \"condition\": \"Mist\", \"condition_icon\": \"//cdn.weatherapi.com/weather/64x64/night/143.png\", \"wind_kph\": 11.2, \"wind_dir\": \"ESE\", \"wind_degree\": 106, \"pressure_in\": 29.94, \"precip_in\": 0.0, \"cloud\": 25, \"humidity\": 79, \"feelslike_c\": 29.5, \"uv\": 0.0, \"air_quality\": {\"co\": 471.75, \"no2\": 10.545, \"o3\": 96.0, \"so2\": 10.73, \"pm2_5\": 68.45, \"pm10\": 79.55, \"us-epa-index\": 4, \"gb-defra-index\": 9}, \"alerts\": [], \"forecast\": [{\"date\": \"2025-02-17\", \"maxtemp_c\": 28.3, \"mintemp_c\": 23.5, \"condition\": \"Sunny\"}, {\"date\": \"2025-02-18\", \"maxtemp_c\": 28.2, \"mintemp_c\": 22.8, \"condition\": \"Sunny\"}, {\"date\": \"2025-02-19\", \"maxtemp_c\": 28.9, \"mintemp_c\": 22.5, \"condition\": \"Sunny\"}]}"
        ],
        [
         "2025-02-17T17:51:13.149Z",
         7,
         "{\"name\": \"Chennai\", \"country\": \"India\", \"region\": \"Tamil Nadu\", \"lat\": 13.0833, \"lon\": 80.2833, \"localtime\": \"2025-02-17 23:21\", \"temp_c\": 27.0, \"is_day\": 0, \"condition\": \"Mist\", \"condition_icon\": \"//cdn.weatherapi.com/weather/64x64/night/143.png\", \"wind_kph\": 11.2, \"wind_dir\": \"ESE\", \"wind_degree\": 106, \"pressure_in\": 29.94, \"precip_in\": 0.0, \"cloud\": 25, \"humidity\": 79, \"feelslike_c\": 29.5, \"uv\": 0.0, \"air_quality\": {\"co\": 471.75, \"no2\": 10.545, \"o3\": 96.0, \"so2\": 10.73, \"pm2_5\": 68.45, \"pm10\": 79.55, \"us-epa-index\": 4, \"gb-defra-index\": 9}, \"alerts\": [], \"forecast\": [{\"date\": \"2025-02-17\", \"maxtemp_c\": 28.3, \"mintemp_c\": 23.5, \"condition\": \"Sunny\"}, {\"date\": \"2025-02-18\", \"maxtemp_c\": 28.2, \"mintemp_c\": 22.8, \"condition\": \"Sunny\"}, {\"date\": \"2025-02-19\", \"maxtemp_c\": 28.9, \"mintemp_c\": 22.5, \"condition\": \"Sunny\"}]}"
        ],
        [
         "2025-02-17T17:51:12.888Z",
         7,
         "{\"name\": \"Chennai\", \"country\": \"India\", \"region\": \"Tamil Nadu\", \"lat\": 13.0833, \"lon\": 80.2833, \"localtime\": \"2025-02-17 23:21\", \"temp_c\": 27.0, \"is_day\": 0, \"condition\": \"Mist\", \"condition_icon\": \"//cdn.weatherapi.com/weather/64x64/night/143.png\", \"wind_kph\": 11.2, \"wind_dir\": \"ESE\", \"wind_degree\": 106, \"pressure_in\": 29.94, \"precip_in\": 0.0, \"cloud\": 25, \"humidity\": 79, \"feelslike_c\": 29.5, \"uv\": 0.0, \"air_quality\": {\"co\": 471.75, \"no2\": 10.545, \"o3\": 96.0, \"so2\": 10.73, \"pm2_5\": 68.45, \"pm10\": 79.55, \"us-epa-index\": 4, \"gb-defra-index\": 9}, \"alerts\": [], \"forecast\": [{\"date\": \"2025-02-17\", \"maxtemp_c\": 28.3, \"mintemp_c\": 23.5, \"condition\": \"Sunny\"}, {\"date\": \"2025-02-18\", \"maxtemp_c\": 28.2, \"mintemp_c\": 22.8, \"condition\": \"Sunny\"}, {\"date\": \"2025-02-19\", \"maxtemp_c\": 28.9, \"mintemp_c\": 22.5, \"condition\": \"Sunny\"}]}"
        ],
        [
         "2025-02-17T17:51:14.149Z",
         8,
         "{\"name\": \"Chennai\", \"country\": \"India\", \"region\": \"Tamil Nadu\", \"lat\": 13.0833, \"lon\": 80.2833, \"localtime\": \"2025-02-17 23:21\", \"temp_c\": 27.0, \"is_day\": 0, \"condition\": \"Mist\", \"condition_icon\": \"//cdn.weatherapi.com/weather/64x64/night/143.png\", \"wind_kph\": 11.2, \"wind_dir\": \"ESE\", \"wind_degree\": 106, \"pressure_in\": 29.94, \"precip_in\": 0.0, \"cloud\": 25, \"humidity\": 79, \"feelslike_c\": 29.5, \"uv\": 0.0, \"air_quality\": {\"co\": 471.75, \"no2\": 10.545, \"o3\": 96.0, \"so2\": 10.73, \"pm2_5\": 68.45, \"pm10\": 79.55, \"us-epa-index\": 4, \"gb-defra-index\": 9}, \"alerts\": [], \"forecast\": [{\"date\": \"2025-02-17\", \"maxtemp_c\": 28.3, \"mintemp_c\": 23.5, \"condition\": \"Sunny\"}, {\"date\": \"2025-02-18\", \"maxtemp_c\": 28.2, \"mintemp_c\": 22.8, \"condition\": \"Sunny\"}, {\"date\": \"2025-02-19\", \"maxtemp_c\": 28.9, \"mintemp_c\": 22.5, \"condition\": \"Sunny\"}]}"
        ],
        [
         "2025-02-17T17:51:13.888Z",
         8,
         "{\"name\": \"Chennai\", \"country\": \"India\", \"region\": \"Tamil Nadu\", \"lat\": 13.0833, \"lon\": 80.2833, \"localtime\": \"2025-02-17 23:21\", \"temp_c\": 27.0, \"is_day\": 0, \"condition\": \"Mist\", \"condition_icon\": \"//cdn.weatherapi.com/weather/64x64/night/143.png\", \"wind_kph\": 11.2, \"wind_dir\": \"ESE\", \"wind_degree\": 106, \"pressure_in\": 29.94, \"precip_in\": 0.0, \"cloud\": 25, \"humidity\": 79, \"feelslike_c\": 29.5, \"uv\": 0.0, \"air_quality\": {\"co\": 471.75, \"no2\": 10.545, \"o3\": 96.0, \"so2\": 10.73, \"pm2_5\": 68.45, \"pm10\": 79.55, \"us-epa-index\": 4, \"gb-defra-index\": 9}, \"alerts\": [], \"forecast\": [{\"date\": \"2025-02-17\", \"maxtemp_c\": 28.3, \"mintemp_c\": 23.5, \"condition\": \"Sunny\"}, {\"date\": \"2025-02-18\", \"maxtemp_c\": 28.2, \"mintemp_c\": 22.8, \"condition\": \"Sunny\"}, {\"date\": \"2025-02-19\", \"maxtemp_c\": 28.9, \"mintemp_c\": 22.5, \"condition\": \"Sunny\"}]}"
        ],
        [
         "2025-02-17T17:51:15.149Z",
         9,
         "{\"name\": \"Chennai\", \"country\": \"India\", \"region\": \"Tamil Nadu\", \"lat\": 13.0833, \"lon\": 80.2833, \"localtime\": \"2025-02-17 23:21\", \"temp_c\": 27.0, \"is_day\": 0, \"condition\": \"Mist\", \"condition_icon\": \"//cdn.weatherapi.com/weather/64x64/night/143.png\", \"wind_kph\": 11.2, \"wind_dir\": \"ESE\", \"wind_degree\": 106, \"pressure_in\": 29.94, \"precip_in\": 0.0, \"cloud\": 25, \"humidity\": 79, \"feelslike_c\": 29.5, \"uv\": 0.0, \"air_quality\": {\"co\": 471.75, \"no2\": 10.545, \"o3\": 96.0, \"so2\": 10.73, \"pm2_5\": 68.45, \"pm10\": 79.55, \"us-epa-index\": 4, \"gb-defra-index\": 9}, \"alerts\": [], \"forecast\": [{\"date\": \"2025-02-17\", \"maxtemp_c\": 28.3, \"mintemp_c\": 23.5, \"condition\": \"Sunny\"}, {\"date\": \"2025-02-18\", \"maxtemp_c\": 28.2, \"mintemp_c\": 22.8, \"condition\": \"Sunny\"}, {\"date\": \"2025-02-19\", \"maxtemp_c\": 28.9, \"mintemp_c\": 22.5, \"condition\": \"Sunny\"}]}"
        ],
        [
         "2025-02-17T17:51:18.149Z",
         12,
         "{\"name\": \"Chennai\", \"country\": \"India\", \"region\": \"Tamil Nadu\", \"lat\": 13.0833, \"lon\": 80.2833, \"localtime\": \"2025-02-17 23:21\", \"temp_c\": 27.0, \"is_day\": 0, \"condition\": \"Mist\", \"condition_icon\": \"//cdn.weatherapi.com/weather/64x64/night/143.png\", \"wind_kph\": 11.2, \"wind_dir\": \"ESE\", \"wind_degree\": 106, \"pressure_in\": 29.94, \"precip_in\": 0.0, \"cloud\": 25, \"humidity\": 79, \"feelslike_c\": 29.5, \"uv\": 0.0, \"air_quality\": {\"co\": 471.75, \"no2\": 10.545, \"o3\": 96.0, \"so2\": 10.73, \"pm2_5\": 68.45, \"pm10\": 79.55, \"us-epa-index\": 4, \"gb-defra-index\": 9}, \"alerts\": [], \"forecast\": [{\"date\": \"2025-02-17\", \"maxtemp_c\": 28.3, \"mintemp_c\": 23.5, \"condition\": \"Sunny\"}, {\"date\": \"2025-02-18\", \"maxtemp_c\": 28.2, \"mintemp_c\": 22.8, \"condition\": \"Sunny\"}, {\"date\": \"2025-02-19\", \"maxtemp_c\": 28.9, \"mintemp_c\": 22.5, \"condition\": \"Sunny\"}]}"
        ],
        [
         "2025-02-17T17:51:21.149Z",
         15,
         "{\"name\": \"Chennai\", \"country\": \"India\", \"region\": \"Tamil Nadu\", \"lat\": 13.0833, \"lon\": 80.2833, \"localtime\": \"2025-02-17 23:21\", \"temp_c\": 27.0, \"is_day\": 0, \"condition\": \"Mist\", \"condition_icon\": \"//cdn.weatherapi.com/weather/64x64/night/143.png\", \"wind_kph\": 11.2, \"wind_dir\": \"ESE\", \"wind_degree\": 106, \"pressure_in\": 29.94, \"precip_in\": 0.0, \"cloud\": 25, \"humidity\": 79, \"feelslike_c\": 29.5, \"uv\": 0.0, \"air_quality\": {\"co\": 471.75, \"no2\": 10.545, \"o3\": 96.0, \"so2\": 10.73, \"pm2_5\": 68.45, \"pm10\": 79.55, \"us-epa-index\": 4, \"gb-defra-index\": 9}, \"alerts\": [], \"forecast\": [{\"date\": \"2025-02-17\", \"maxtemp_c\": 28.3, \"mintemp_c\": 23.5, \"condition\": \"Sunny\"}, {\"date\": \"2025-02-18\", \"maxtemp_c\": 28.2, \"mintemp_c\": 22.8, \"condition\": \"Sunny\"}, {\"date\": \"2025-02-19\", \"maxtemp_c\": 28.9, \"mintemp_c\": 22.5, \"condition\": \"Sunny\"}]}"
        ],
        [
         "2025-02-17T17:51:16.888Z",
         11,
         "{\"name\": \"Chennai\", \"country\": \"India\", \"region\": \"Tamil Nadu\", \"lat\": 13.0833, \"lon\": 80.2833, \"localtime\": \"2025-02-17 23:21\", \"temp_c\": 27.0, \"is_day\": 0, \"condition\": \"Mist\", \"condition_icon\": \"//cdn.weatherapi.com/weather/64x64/night/143.png\", \"wind_kph\": 11.2, \"wind_dir\": \"ESE\", \"wind_degree\": 106, \"pressure_in\": 29.94, \"precip_in\": 0.0, \"cloud\": 25, \"humidity\": 79, \"feelslike_c\": 29.5, \"uv\": 0.0, \"air_quality\": {\"co\": 471.75, \"no2\": 10.545, \"o3\": 96.0, \"so2\": 10.73, \"pm2_5\": 68.45, \"pm10\": 79.55, \"us-epa-index\": 4, \"gb-defra-index\": 9}, \"alerts\": [], \"forecast\": [{\"date\": \"2025-02-17\", \"maxtemp_c\": 28.3, \"mintemp_c\": 23.5, \"condition\": \"Sunny\"}, {\"date\": \"2025-02-18\", \"maxtemp_c\": 28.2, \"mintemp_c\": 22.8, \"condition\": \"Sunny\"}, {\"date\": \"2025-02-19\", \"maxtemp_c\": 28.9, \"mintemp_c\": 22.5, \"condition\": \"Sunny\"}]}"
        ],
        [
         "2025-02-17T17:51:19.149Z",
         13,
         "{\"name\": \"Chennai\", \"country\": \"India\", \"region\": \"Tamil Nadu\", \"lat\": 13.0833, \"lon\": 80.2833, \"localtime\": \"2025-02-17 23:21\", \"temp_c\": 27.0, \"is_day\": 0, \"condition\": \"Mist\", \"condition_icon\": \"//cdn.weatherapi.com/weather/64x64/night/143.png\", \"wind_kph\": 11.2, \"wind_dir\": \"ESE\", \"wind_degree\": 106, \"pressure_in\": 29.94, \"precip_in\": 0.0, \"cloud\": 25, \"humidity\": 79, \"feelslike_c\": 29.5, \"uv\": 0.0, \"air_quality\": {\"co\": 471.75, \"no2\": 10.545, \"o3\": 96.0, \"so2\": 10.73, \"pm2_5\": 68.45, \"pm10\": 79.55, \"us-epa-index\": 4, \"gb-defra-index\": 9}, \"alerts\": [], \"forecast\": [{\"date\": \"2025-02-17\", \"maxtemp_c\": 28.3, \"mintemp_c\": 23.5, \"condition\": \"Sunny\"}, {\"date\": \"2025-02-18\", \"maxtemp_c\": 28.2, \"mintemp_c\": 22.8, \"condition\": \"Sunny\"}, {\"date\": \"2025-02-19\", \"maxtemp_c\": 28.9, \"mintemp_c\": 22.5, \"condition\": \"Sunny\"}]}"
        ],
        [
         "2025-02-17T17:51:19.888Z",
         14,
         "{\"name\": \"Chennai\", \"country\": \"India\", \"region\": \"Tamil Nadu\", \"lat\": 13.0833, \"lon\": 80.2833, \"localtime\": \"2025-02-17 23:21\", \"temp_c\": 27.0, \"is_day\": 0, \"condition\": \"Mist\", \"condition_icon\": \"//cdn.weatherapi.com/weather/64x64/night/143.png\", \"wind_kph\": 11.2, \"wind_dir\": \"ESE\", \"wind_degree\": 106, \"pressure_in\": 29.94, \"precip_in\": 0.0, \"cloud\": 25, \"humidity\": 79, \"feelslike_c\": 29.5, \"uv\": 0.0, \"air_quality\": {\"co\": 471.75, \"no2\": 10.545, \"o3\": 96.0, \"so2\": 10.73, \"pm2_5\": 68.45, \"pm10\": 79.55, \"us-epa-index\": 4, \"gb-defra-index\": 9}, \"alerts\": [], \"forecast\": [{\"date\": \"2025-02-17\", \"maxtemp_c\": 28.3, \"mintemp_c\": 23.5, \"condition\": \"Sunny\"}, {\"date\": \"2025-02-18\", \"maxtemp_c\": 28.2, \"mintemp_c\": 22.8, \"condition\": \"Sunny\"}, {\"date\": \"2025-02-19\", \"maxtemp_c\": 28.9, \"mintemp_c\": 22.5, \"condition\": \"Sunny\"}]}"
        ],
        [
         "2025-02-17T17:51:18.888Z",
         13,
         "{\"name\": \"Chennai\", \"country\": \"India\", \"region\": \"Tamil Nadu\", \"lat\": 13.0833, \"lon\": 80.2833, \"localtime\": \"2025-02-17 23:21\", \"temp_c\": 27.0, \"is_day\": 0, \"condition\": \"Mist\", \"condition_icon\": \"//cdn.weatherapi.com/weather/64x64/night/143.png\", \"wind_kph\": 11.2, \"wind_dir\": \"ESE\", \"wind_degree\": 106, \"pressure_in\": 29.94, \"precip_in\": 0.0, \"cloud\": 25, \"humidity\": 79, \"feelslike_c\": 29.5, \"uv\": 0.0, \"air_quality\": {\"co\": 471.75, \"no2\": 10.545, \"o3\": 96.0, \"so2\": 10.73, \"pm2_5\": 68.45, \"pm10\": 79.55, \"us-epa-index\": 4, \"gb-defra-index\": 9}, \"alerts\": [], \"forecast\": [{\"date\": \"2025-02-17\", \"maxtemp_c\": 28.3, \"mintemp_c\": 23.5, \"condition\": \"Sunny\"}, {\"date\": \"2025-02-18\", \"maxtemp_c\": 28.2, \"mintemp_c\": 22.8, \"condition\": \"Sunny\"}, {\"date\": \"2025-02-19\", \"maxtemp_c\": 28.9, \"mintemp_c\": 22.5, \"condition\": \"Sunny\"}]}"
        ],
        [
         "2025-02-17T17:51:17.888Z",
         12,
         "{\"name\": \"Chennai\", \"country\": \"India\", \"region\": \"Tamil Nadu\", \"lat\": 13.0833, \"lon\": 80.2833, \"localtime\": \"2025-02-17 23:21\", \"temp_c\": 27.0, \"is_day\": 0, \"condition\": \"Mist\", \"condition_icon\": \"//cdn.weatherapi.com/weather/64x64/night/143.png\", \"wind_kph\": 11.2, \"wind_dir\": \"ESE\", \"wind_degree\": 106, \"pressure_in\": 29.94, \"precip_in\": 0.0, \"cloud\": 25, \"humidity\": 79, \"feelslike_c\": 29.5, \"uv\": 0.0, \"air_quality\": {\"co\": 471.75, \"no2\": 10.545, \"o3\": 96.0, \"so2\": 10.73, \"pm2_5\": 68.45, \"pm10\": 79.55, \"us-epa-index\": 4, \"gb-defra-index\": 9}, \"alerts\": [], \"forecast\": [{\"date\": \"2025-02-17\", \"maxtemp_c\": 28.3, \"mintemp_c\": 23.5, \"condition\": \"Sunny\"}, {\"date\": \"2025-02-18\", \"maxtemp_c\": 28.2, \"mintemp_c\": 22.8, \"condition\": \"Sunny\"}, {\"date\": \"2025-02-19\", \"maxtemp_c\": 28.9, \"mintemp_c\": 22.5, \"condition\": \"Sunny\"}]}"
        ],
        [
         "2025-02-17T17:51:20.888Z",
         15,
         "{\"name\": \"Chennai\", \"country\": \"India\", \"region\": \"Tamil Nadu\", \"lat\": 13.0833, \"lon\": 80.2833, \"localtime\": \"2025-02-17 23:21\", \"temp_c\": 27.0, \"is_day\": 0, \"condition\": \"Mist\", \"condition_icon\": \"//cdn.weatherapi.com/weather/64x64/night/143.png\", \"wind_kph\": 11.2, \"wind_dir\": \"ESE\", \"wind_degree\": 106, \"pressure_in\": 29.94, \"precip_in\": 0.0, \"cloud\": 25, \"humidity\": 79, \"feelslike_c\": 29.5, \"uv\": 0.0, \"air_quality\": {\"co\": 471.75, \"no2\": 10.545, \"o3\": 96.0, \"so2\": 10.73, \"pm2_5\": 68.45, \"pm10\": 79.55, \"us-epa-index\": 4, \"gb-defra-index\": 9}, \"alerts\": [], \"forecast\": [{\"date\": \"2025-02-17\", \"maxtemp_c\": 28.3, \"mintemp_c\": 23.5, \"condition\": \"Sunny\"}, {\"date\": \"2025-02-18\", \"maxtemp_c\": 28.2, \"mintemp_c\": 22.8, \"condition\": \"Sunny\"}, {\"date\": \"2025-02-19\", \"maxtemp_c\": 28.9, \"mintemp_c\": 22.5, \"condition\": \"Sunny\"}]}"
        ],
        [
         "2025-02-17T17:51:22.149Z",
         16,
         "{\"name\": \"Chennai\", \"country\": \"India\", \"region\": \"Tamil Nadu\", \"lat\": 13.0833, \"lon\": 80.2833, \"localtime\": \"2025-02-17 23:21\", \"temp_c\": 27.0, \"is_day\": 0, \"condition\": \"Mist\", \"condition_icon\": \"//cdn.weatherapi.com/weather/64x64/night/143.png\", \"wind_kph\": 11.2, \"wind_dir\": \"ESE\", \"wind_degree\": 106, \"pressure_in\": 29.94, \"precip_in\": 0.0, \"cloud\": 25, \"humidity\": 79, \"feelslike_c\": 29.5, \"uv\": 0.0, \"air_quality\": {\"co\": 471.75, \"no2\": 10.545, \"o3\": 96.0, \"so2\": 10.73, \"pm2_5\": 68.45, \"pm10\": 79.55, \"us-epa-index\": 4, \"gb-defra-index\": 9}, \"alerts\": [], \"forecast\": [{\"date\": \"2025-02-17\", \"maxtemp_c\": 28.3, \"mintemp_c\": 23.5, \"condition\": \"Sunny\"}, {\"date\": \"2025-02-18\", \"maxtemp_c\": 28.2, \"mintemp_c\": 22.8, \"condition\": \"Sunny\"}, {\"date\": \"2025-02-19\", \"maxtemp_c\": 28.9, \"mintemp_c\": 22.5, \"condition\": \"Sunny\"}]}"
        ],
        [
         "2025-02-17T17:51:26.149Z",
         20,
         "{\"name\": \"Chennai\", \"country\": \"India\", \"region\": \"Tamil Nadu\", \"lat\": 13.0833, \"lon\": 80.2833, \"localtime\": \"2025-02-17 23:21\", \"temp_c\": 27.0, \"is_day\": 0, \"condition\": \"Mist\", \"condition_icon\": \"//cdn.weatherapi.com/weather/64x64/night/143.png\", \"wind_kph\": 11.2, \"wind_dir\": \"ESE\", \"wind_degree\": 106, \"pressure_in\": 29.94, \"precip_in\": 0.0, \"cloud\": 25, \"humidity\": 79, \"feelslike_c\": 29.5, \"uv\": 0.0, \"air_quality\": {\"co\": 471.75, \"no2\": 10.545, \"o3\": 96.0, \"so2\": 10.73, \"pm2_5\": 68.45, \"pm10\": 79.55, \"us-epa-index\": 4, \"gb-defra-index\": 9}, \"alerts\": [], \"forecast\": [{\"date\": \"2025-02-17\", \"maxtemp_c\": 28.3, \"mintemp_c\": 23.5, \"condition\": \"Sunny\"}, {\"date\": \"2025-02-18\", \"maxtemp_c\": 28.2, \"mintemp_c\": 22.8, \"condition\": \"Sunny\"}, {\"date\": \"2025-02-19\", \"maxtemp_c\": 28.9, \"mintemp_c\": 22.5, \"condition\": \"Sunny\"}]}"
        ],
        [
         "2025-02-17T17:51:22.888Z",
         17,
         "{\"name\": \"Chennai\", \"country\": \"India\", \"region\": \"Tamil Nadu\", \"lat\": 13.0833, \"lon\": 80.2833, \"localtime\": \"2025-02-17 23:21\", \"temp_c\": 27.0, \"is_day\": 0, \"condition\": \"Mist\", \"condition_icon\": \"//cdn.weatherapi.com/weather/64x64/night/143.png\", \"wind_kph\": 11.2, \"wind_dir\": \"ESE\", \"wind_degree\": 106, \"pressure_in\": 29.94, \"precip_in\": 0.0, \"cloud\": 25, \"humidity\": 79, \"feelslike_c\": 29.5, \"uv\": 0.0, \"air_quality\": {\"co\": 471.75, \"no2\": 10.545, \"o3\": 96.0, \"so2\": 10.73, \"pm2_5\": 68.45, \"pm10\": 79.55, \"us-epa-index\": 4, \"gb-defra-index\": 9}, \"alerts\": [], \"forecast\": [{\"date\": \"2025-02-17\", \"maxtemp_c\": 28.3, \"mintemp_c\": 23.5, \"condition\": \"Sunny\"}, {\"date\": \"2025-02-18\", \"maxtemp_c\": 28.2, \"mintemp_c\": 22.8, \"condition\": \"Sunny\"}, {\"date\": \"2025-02-19\", \"maxtemp_c\": 28.9, \"mintemp_c\": 22.5, \"condition\": \"Sunny\"}]}"
        ],
        [
         "2025-02-17T17:51:24.149Z",
         18,
         "{\"name\": \"Chennai\", \"country\": \"India\", \"region\": \"Tamil Nadu\", \"lat\": 13.0833, \"lon\": 80.2833, \"localtime\": \"2025-02-17 23:21\", \"temp_c\": 27.0, \"is_day\": 0, \"condition\": \"Mist\", \"condition_icon\": \"//cdn.weatherapi.com/weather/64x64/night/143.png\", \"wind_kph\": 11.2, \"wind_dir\": \"ESE\", \"wind_degree\": 106, \"pressure_in\": 29.94, \"precip_in\": 0.0, \"cloud\": 25, \"humidity\": 79, \"feelslike_c\": 29.5, \"uv\": 0.0, \"air_quality\": {\"co\": 471.75, \"no2\": 10.545, \"o3\": 96.0, \"so2\": 10.73, \"pm2_5\": 68.45, \"pm10\": 79.55, \"us-epa-index\": 4, \"gb-defra-index\": 9}, \"alerts\": [], \"forecast\": [{\"date\": \"2025-02-17\", \"maxtemp_c\": 28.3, \"mintemp_c\": 23.5, \"condition\": \"Sunny\"}, {\"date\": \"2025-02-18\", \"maxtemp_c\": 28.2, \"mintemp_c\": 22.8, \"condition\": \"Sunny\"}, {\"date\": \"2025-02-19\", \"maxtemp_c\": 28.9, \"mintemp_c\": 22.5, \"condition\": \"Sunny\"}]}"
        ],
        [
         "2025-02-17T17:51:21.888Z",
         16,
         "{\"name\": \"Chennai\", \"country\": \"India\", \"region\": \"Tamil Nadu\", \"lat\": 13.0833, \"lon\": 80.2833, \"localtime\": \"2025-02-17 23:21\", \"temp_c\": 27.0, \"is_day\": 0, \"condition\": \"Mist\", \"condition_icon\": \"//cdn.weatherapi.com/weather/64x64/night/143.png\", \"wind_kph\": 11.2, \"wind_dir\": \"ESE\", \"wind_degree\": 106, \"pressure_in\": 29.94, \"precip_in\": 0.0, \"cloud\": 25, \"humidity\": 79, \"feelslike_c\": 29.5, \"uv\": 0.0, \"air_quality\": {\"co\": 471.75, \"no2\": 10.545, \"o3\": 96.0, \"so2\": 10.73, \"pm2_5\": 68.45, \"pm10\": 79.55, \"us-epa-index\": 4, \"gb-defra-index\": 9}, \"alerts\": [], \"forecast\": [{\"date\": \"2025-02-17\", \"maxtemp_c\": 28.3, \"mintemp_c\": 23.5, \"condition\": \"Sunny\"}, {\"date\": \"2025-02-18\", \"maxtemp_c\": 28.2, \"mintemp_c\": 22.8, \"condition\": \"Sunny\"}, {\"date\": \"2025-02-19\", \"maxtemp_c\": 28.9, \"mintemp_c\": 22.5, \"condition\": \"Sunny\"}]}"
        ],
        [
         "2025-02-17T17:51:25.149Z",
         19,
         "{\"name\": \"Chennai\", \"country\": \"India\", \"region\": \"Tamil Nadu\", \"lat\": 13.0833, \"lon\": 80.2833, \"localtime\": \"2025-02-17 23:21\", \"temp_c\": 27.0, \"is_day\": 0, \"condition\": \"Mist\", \"condition_icon\": \"//cdn.weatherapi.com/weather/64x64/night/143.png\", \"wind_kph\": 11.2, \"wind_dir\": \"ESE\", \"wind_degree\": 106, \"pressure_in\": 29.94, \"precip_in\": 0.0, \"cloud\": 25, \"humidity\": 79, \"feelslike_c\": 29.5, \"uv\": 0.0, \"air_quality\": {\"co\": 471.75, \"no2\": 10.545, \"o3\": 96.0, \"so2\": 10.73, \"pm2_5\": 68.45, \"pm10\": 79.55, \"us-epa-index\": 4, \"gb-defra-index\": 9}, \"alerts\": [], \"forecast\": [{\"date\": \"2025-02-17\", \"maxtemp_c\": 28.3, \"mintemp_c\": 23.5, \"condition\": \"Sunny\"}, {\"date\": \"2025-02-18\", \"maxtemp_c\": 28.2, \"mintemp_c\": 22.8, \"condition\": \"Sunny\"}, {\"date\": \"2025-02-19\", \"maxtemp_c\": 28.9, \"mintemp_c\": 22.5, \"condition\": \"Sunny\"}]}"
        ],
        [
         "2025-02-17T17:51:23.149Z",
         17,
         "{\"name\": \"Chennai\", \"country\": \"India\", \"region\": \"Tamil Nadu\", \"lat\": 13.0833, \"lon\": 80.2833, \"localtime\": \"2025-02-17 23:21\", \"temp_c\": 27.0, \"is_day\": 0, \"condition\": \"Mist\", \"condition_icon\": \"//cdn.weatherapi.com/weather/64x64/night/143.png\", \"wind_kph\": 11.2, \"wind_dir\": \"ESE\", \"wind_degree\": 106, \"pressure_in\": 29.94, \"precip_in\": 0.0, \"cloud\": 25, \"humidity\": 79, \"feelslike_c\": 29.5, \"uv\": 0.0, \"air_quality\": {\"co\": 471.75, \"no2\": 10.545, \"o3\": 96.0, \"so2\": 10.73, \"pm2_5\": 68.45, \"pm10\": 79.55, \"us-epa-index\": 4, \"gb-defra-index\": 9}, \"alerts\": [], \"forecast\": [{\"date\": \"2025-02-17\", \"maxtemp_c\": 28.3, \"mintemp_c\": 23.5, \"condition\": \"Sunny\"}, {\"date\": \"2025-02-18\", \"maxtemp_c\": 28.2, \"mintemp_c\": 22.8, \"condition\": \"Sunny\"}, {\"date\": \"2025-02-19\", \"maxtemp_c\": 28.9, \"mintemp_c\": 22.5, \"condition\": \"Sunny\"}]}"
        ],
        [
         "2025-02-17T17:51:23.888Z",
         18,
         "{\"name\": \"Chennai\", \"country\": \"India\", \"region\": \"Tamil Nadu\", \"lat\": 13.0833, \"lon\": 80.2833, \"localtime\": \"2025-02-17 23:21\", \"temp_c\": 27.0, \"is_day\": 0, \"condition\": \"Mist\", \"condition_icon\": \"//cdn.weatherapi.com/weather/64x64/night/143.png\", \"wind_kph\": 11.2, \"wind_dir\": \"ESE\", \"wind_degree\": 106, \"pressure_in\": 29.94, \"precip_in\": 0.0, \"cloud\": 25, \"humidity\": 79, \"feelslike_c\": 29.5, \"uv\": 0.0, \"air_quality\": {\"co\": 471.75, \"no2\": 10.545, \"o3\": 96.0, \"so2\": 10.73, \"pm2_5\": 68.45, \"pm10\": 79.55, \"us-epa-index\": 4, \"gb-defra-index\": 9}, \"alerts\": [], \"forecast\": [{\"date\": \"2025-02-17\", \"maxtemp_c\": 28.3, \"mintemp_c\": 23.5, \"condition\": \"Sunny\"}, {\"date\": \"2025-02-18\", \"maxtemp_c\": 28.2, \"mintemp_c\": 22.8, \"condition\": \"Sunny\"}, {\"date\": \"2025-02-19\", \"maxtemp_c\": 28.9, \"mintemp_c\": 22.5, \"condition\": \"Sunny\"}]}"
        ],
        [
         "2025-02-17T17:51:25.888Z",
         20,
         "{\"name\": \"Chennai\", \"country\": \"India\", \"region\": \"Tamil Nadu\", \"lat\": 13.0833, \"lon\": 80.2833, \"localtime\": \"2025-02-17 23:21\", \"temp_c\": 27.0, \"is_day\": 0, \"condition\": \"Mist\", \"condition_icon\": \"//cdn.weatherapi.com/weather/64x64/night/143.png\", \"wind_kph\": 11.2, \"wind_dir\": \"ESE\", \"wind_degree\": 106, \"pressure_in\": 29.94, \"precip_in\": 0.0, \"cloud\": 25, \"humidity\": 79, \"feelslike_c\": 29.5, \"uv\": 0.0, \"air_quality\": {\"co\": 471.75, \"no2\": 10.545, \"o3\": 96.0, \"so2\": 10.73, \"pm2_5\": 68.45, \"pm10\": 79.55, \"us-epa-index\": 4, \"gb-defra-index\": 9}, \"alerts\": [], \"forecast\": [{\"date\": \"2025-02-17\", \"maxtemp_c\": 28.3, \"mintemp_c\": 23.5, \"condition\": \"Sunny\"}, {\"date\": \"2025-02-18\", \"maxtemp_c\": 28.2, \"mintemp_c\": 22.8, \"condition\": \"Sunny\"}, {\"date\": \"2025-02-19\", \"maxtemp_c\": 28.9, \"mintemp_c\": 22.5, \"condition\": \"Sunny\"}]}"
        ],
        [
         "2025-02-17T17:51:26.888Z",
         21,
         "{\"name\": \"Chennai\", \"country\": \"India\", \"region\": \"Tamil Nadu\", \"lat\": 13.0833, \"lon\": 80.2833, \"localtime\": \"2025-02-17 23:21\", \"temp_c\": 27.0, \"is_day\": 0, \"condition\": \"Mist\", \"condition_icon\": \"//cdn.weatherapi.com/weather/64x64/night/143.png\", \"wind_kph\": 11.2, \"wind_dir\": \"ESE\", \"wind_degree\": 106, \"pressure_in\": 29.94, \"precip_in\": 0.0, \"cloud\": 25, \"humidity\": 79, \"feelslike_c\": 29.5, \"uv\": 0.0, \"air_quality\": {\"co\": 471.75, \"no2\": 10.545, \"o3\": 96.0, \"so2\": 10.73, \"pm2_5\": 68.45, \"pm10\": 79.55, \"us-epa-index\": 4, \"gb-defra-index\": 9}, \"alerts\": [], \"forecast\": [{\"date\": \"2025-02-17\", \"maxtemp_c\": 28.3, \"mintemp_c\": 23.5, \"condition\": \"Sunny\"}, {\"date\": \"2025-02-18\", \"maxtemp_c\": 28.2, \"mintemp_c\": 22.8, \"condition\": \"Sunny\"}, {\"date\": \"2025-02-19\", \"maxtemp_c\": 28.9, \"mintemp_c\": 22.5, \"condition\": \"Sunny\"}]}"
        ],
        [
         "2025-02-17T17:51:07.888Z",
         2,
         "{\"name\": \"Chennai\", \"country\": \"India\", \"region\": \"Tamil Nadu\", \"lat\": 13.0833, \"lon\": 80.2833, \"localtime\": \"2025-02-17 23:21\", \"temp_c\": 27.0, \"is_day\": 0, \"condition\": \"Mist\", \"condition_icon\": \"//cdn.weatherapi.com/weather/64x64/night/143.png\", \"wind_kph\": 11.2, \"wind_dir\": \"ESE\", \"wind_degree\": 106, \"pressure_in\": 29.94, \"precip_in\": 0.0, \"cloud\": 25, \"humidity\": 79, \"feelslike_c\": 29.5, \"uv\": 0.0, \"air_quality\": {\"co\": 471.75, \"no2\": 10.545, \"o3\": 96.0, \"so2\": 10.73, \"pm2_5\": 68.45, \"pm10\": 79.55, \"us-epa-index\": 4, \"gb-defra-index\": 9}, \"alerts\": [], \"forecast\": [{\"date\": \"2025-02-17\", \"maxtemp_c\": 28.3, \"mintemp_c\": 23.5, \"condition\": \"Sunny\"}, {\"date\": \"2025-02-18\", \"maxtemp_c\": 28.2, \"mintemp_c\": 22.8, \"condition\": \"Sunny\"}, {\"date\": \"2025-02-19\", \"maxtemp_c\": 28.9, \"mintemp_c\": 22.5, \"condition\": \"Sunny\"}]}"
        ],
        [
         "2025-02-17T17:51:16.149Z",
         10,
         "{\"name\": \"Chennai\", \"country\": \"India\", \"region\": \"Tamil Nadu\", \"lat\": 13.0833, \"lon\": 80.2833, \"localtime\": \"2025-02-17 23:21\", \"temp_c\": 27.0, \"is_day\": 0, \"condition\": \"Mist\", \"condition_icon\": \"//cdn.weatherapi.com/weather/64x64/night/143.png\", \"wind_kph\": 11.2, \"wind_dir\": \"ESE\", \"wind_degree\": 106, \"pressure_in\": 29.94, \"precip_in\": 0.0, \"cloud\": 25, \"humidity\": 79, \"feelslike_c\": 29.5, \"uv\": 0.0, \"air_quality\": {\"co\": 471.75, \"no2\": 10.545, \"o3\": 96.0, \"so2\": 10.73, \"pm2_5\": 68.45, \"pm10\": 79.55, \"us-epa-index\": 4, \"gb-defra-index\": 9}, \"alerts\": [], \"forecast\": [{\"date\": \"2025-02-17\", \"maxtemp_c\": 28.3, \"mintemp_c\": 23.5, \"condition\": \"Sunny\"}, {\"date\": \"2025-02-18\", \"maxtemp_c\": 28.2, \"mintemp_c\": 22.8, \"condition\": \"Sunny\"}, {\"date\": \"2025-02-19\", \"maxtemp_c\": 28.9, \"mintemp_c\": 22.5, \"condition\": \"Sunny\"}]}"
        ],
        [
         "2025-02-17T17:51:15.888Z",
         10,
         "{\"name\": \"Chennai\", \"country\": \"India\", \"region\": \"Tamil Nadu\", \"lat\": 13.0833, \"lon\": 80.2833, \"localtime\": \"2025-02-17 23:21\", \"temp_c\": 27.0, \"is_day\": 0, \"condition\": \"Mist\", \"condition_icon\": \"//cdn.weatherapi.com/weather/64x64/night/143.png\", \"wind_kph\": 11.2, \"wind_dir\": \"ESE\", \"wind_degree\": 106, \"pressure_in\": 29.94, \"precip_in\": 0.0, \"cloud\": 25, \"humidity\": 79, \"feelslike_c\": 29.5, \"uv\": 0.0, \"air_quality\": {\"co\": 471.75, \"no2\": 10.545, \"o3\": 96.0, \"so2\": 10.73, \"pm2_5\": 68.45, \"pm10\": 79.55, \"us-epa-index\": 4, \"gb-defra-index\": 9}, \"alerts\": [], \"forecast\": [{\"date\": \"2025-02-17\", \"maxtemp_c\": 28.3, \"mintemp_c\": 23.5, \"condition\": \"Sunny\"}, {\"date\": \"2025-02-18\", \"maxtemp_c\": 28.2, \"mintemp_c\": 22.8, \"condition\": \"Sunny\"}, {\"date\": \"2025-02-19\", \"maxtemp_c\": 28.9, \"mintemp_c\": 22.5, \"condition\": \"Sunny\"}]}"
        ],
        [
         "2025-02-17T17:51:20.149Z",
         14,
         "{\"name\": \"Chennai\", \"country\": \"India\", \"region\": \"Tamil Nadu\", \"lat\": 13.0833, \"lon\": 80.2833, \"localtime\": \"2025-02-17 23:21\", \"temp_c\": 27.0, \"is_day\": 0, \"condition\": \"Mist\", \"condition_icon\": \"//cdn.weatherapi.com/weather/64x64/night/143.png\", \"wind_kph\": 11.2, \"wind_dir\": \"ESE\", \"wind_degree\": 106, \"pressure_in\": 29.94, \"precip_in\": 0.0, \"cloud\": 25, \"humidity\": 79, \"feelslike_c\": 29.5, \"uv\": 0.0, \"air_quality\": {\"co\": 471.75, \"no2\": 10.545, \"o3\": 96.0, \"so2\": 10.73, \"pm2_5\": 68.45, \"pm10\": 79.55, \"us-epa-index\": 4, \"gb-defra-index\": 9}, \"alerts\": [], \"forecast\": [{\"date\": \"2025-02-17\", \"maxtemp_c\": 28.3, \"mintemp_c\": 23.5, \"condition\": \"Sunny\"}, {\"date\": \"2025-02-18\", \"maxtemp_c\": 28.2, \"mintemp_c\": 22.8, \"condition\": \"Sunny\"}, {\"date\": \"2025-02-19\", \"maxtemp_c\": 28.9, \"mintemp_c\": 22.5, \"condition\": \"Sunny\"}]}"
        ],
        [
         "2025-02-17T17:51:24.888Z",
         19,
         "{\"name\": \"Chennai\", \"country\": \"India\", \"region\": \"Tamil Nadu\", \"lat\": 13.0833, \"lon\": 80.2833, \"localtime\": \"2025-02-17 23:21\", \"temp_c\": 27.0, \"is_day\": 0, \"condition\": \"Mist\", \"condition_icon\": \"//cdn.weatherapi.com/weather/64x64/night/143.png\", \"wind_kph\": 11.2, \"wind_dir\": \"ESE\", \"wind_degree\": 106, \"pressure_in\": 29.94, \"precip_in\": 0.0, \"cloud\": 25, \"humidity\": 79, \"feelslike_c\": 29.5, \"uv\": 0.0, \"air_quality\": {\"co\": 471.75, \"no2\": 10.545, \"o3\": 96.0, \"so2\": 10.73, \"pm2_5\": 68.45, \"pm10\": 79.55, \"us-epa-index\": 4, \"gb-defra-index\": 9}, \"alerts\": [], \"forecast\": [{\"date\": \"2025-02-17\", \"maxtemp_c\": 28.3, \"mintemp_c\": 23.5, \"condition\": \"Sunny\"}, {\"date\": \"2025-02-18\", \"maxtemp_c\": 28.2, \"mintemp_c\": 22.8, \"condition\": \"Sunny\"}, {\"date\": \"2025-02-19\", \"maxtemp_c\": 28.9, \"mintemp_c\": 22.5, \"condition\": \"Sunny\"}]}"
        ],
        [
         "2025-02-17T17:34:51.725Z",
         0,
         null
        ],
        [
         "2025-02-17T17:35:09.725Z",
         18,
         null
        ],
        [
         "2025-02-17T17:35:03.443Z",
         12,
         null
        ],
        [
         "2025-02-17T17:35:00.725Z",
         9,
         null
        ],
        [
         "2025-02-17T17:35:05.443Z",
         14,
         null
        ],
        [
         "2025-02-17T17:35:12.443Z",
         21,
         null
        ],
        [
         "2025-02-17T17:35:06.725Z",
         15,
         null
        ],
        [
         "2025-02-17T17:35:02.725Z",
         11,
         null
        ],
        [
         "2025-02-17T17:35:10.443Z",
         19,
         null
        ],
        [
         "2025-02-17T17:35:19.725Z",
         28,
         null
        ],
        [
         "2025-02-17T17:35:15.725Z",
         24,
         null
        ],
        [
         "2025-02-17T17:35:23.443Z",
         32,
         null
        ],
        [
         "2025-02-17T17:35:15.443Z",
         24,
         null
        ],
        [
         "2025-02-17T17:35:13.725Z",
         22,
         null
        ],
        [
         "2025-02-17T17:35:17.725Z",
         26,
         null
        ],
        [
         "2025-02-17T17:34:59.443Z",
         8,
         null
        ],
        [
         "2025-02-17T17:35:04.725Z",
         13,
         null
        ],
        [
         "2025-02-17T17:34:56.443Z",
         5,
         null
        ],
        [
         "2025-02-17T17:34:58.725Z",
         7,
         null
        ],
        [
         "2025-02-17T17:35:11.725Z",
         20,
         null
        ],
        [
         "2025-02-17T17:35:17.443Z",
         26,
         null
        ],
        [
         "2025-02-17T17:34:54.725Z",
         3,
         null
        ],
        [
         "2025-02-17T17:35:19.443Z",
         28,
         null
        ],
        [
         "2025-02-17T17:34:55.725Z",
         4,
         null
        ],
        [
         "2025-02-17T17:35:22.725Z",
         31,
         null
        ],
        [
         "2025-02-17T17:35:06.443Z",
         15,
         null
        ],
        [
         "2025-02-17T17:35:07.725Z",
         16,
         null
        ],
        [
         "2025-02-17T17:35:00.443Z",
         9,
         null
        ],
        [
         "2025-02-17T17:35:14.725Z",
         23,
         null
        ],
        [
         "2025-02-17T17:35:18.443Z",
         27,
         null
        ],
        [
         "2025-02-17T17:35:04.443Z",
         13,
         null
        ],
        [
         "2025-02-17T17:35:05.725Z",
         14,
         null
        ],
        [
         "2025-02-17T17:35:12.725Z",
         21,
         null
        ],
        [
         "2025-02-17T17:35:03.725Z",
         12,
         null
        ],
        [
         "2025-02-17T17:35:20.443Z",
         29,
         null
        ],
        [
         "2025-02-17T17:35:24.443Z",
         33,
         null
        ],
        [
         "2025-02-17T17:34:59.725Z",
         8,
         null
        ],
        [
         "2025-02-17T17:35:20.725Z",
         29,
         null
        ],
        [
         "2025-02-17T17:35:10.725Z",
         19,
         null
        ],
        [
         "2025-02-17T17:35:11.443Z",
         20,
         null
        ],
        [
         "2025-02-17T17:35:22.443Z",
         31,
         null
        ],
        [
         "2025-02-17T17:35:02.443Z",
         11,
         null
        ],
        [
         "2025-02-17T17:34:52.443Z",
         1,
         null
        ],
        [
         "2025-02-17T17:35:18.725Z",
         27,
         null
        ],
        [
         "2025-02-17T17:35:09.443Z",
         18,
         null
        ],
        [
         "2025-02-17T17:35:16.443Z",
         25,
         null
        ],
        [
         "2025-02-17T17:35:08.725Z",
         17,
         null
        ],
        [
         "2025-02-17T17:35:14.443Z",
         23,
         null
        ],
        [
         "2025-02-17T17:34:58.443Z",
         7,
         null
        ],
        [
         "2025-02-17T17:34:53.443Z",
         2,
         null
        ],
        [
         "2025-02-17T17:34:53.725Z",
         2,
         null
        ],
        [
         "2025-02-17T17:34:56.725Z",
         5,
         null
        ],
        [
         "2025-02-17T17:34:57.725Z",
         6,
         null
        ],
        [
         "2025-02-17T17:34:54.443Z",
         3,
         null
        ],
        [
         "2025-02-17T17:35:21.725Z",
         30,
         null
        ],
        [
         "2025-02-17T17:35:21.443Z",
         30,
         null
        ],
        [
         "2025-02-17T17:35:01.443Z",
         10,
         null
        ],
        [
         "2025-02-17T17:35:08.443Z",
         17,
         null
        ],
        [
         "2025-02-17T17:34:57.443Z",
         6,
         null
        ],
        [
         "2025-02-17T17:34:52.725Z",
         1,
         null
        ],
        [
         "2025-02-17T17:35:01.725Z",
         10,
         null
        ],
        [
         "2025-02-17T17:35:16.725Z",
         25,
         null
        ],
        [
         "2025-02-17T17:35:07.443Z",
         16,
         null
        ],
        [
         "2025-02-17T17:35:13.443Z",
         22,
         null
        ],
        [
         "2025-02-17T17:34:51.443Z",
         0,
         null
        ],
        [
         "2025-02-17T17:34:55.443Z",
         4,
         null
        ]
       ],
       "datasetInfos": [],
       "dbfsResultPath": null,
       "isJsonSchema": true,
       "metadata": {},
       "overflow": false,
       "plotOptions": {
        "customPlotOptions": {},
        "displayType": "table",
        "pivotAggregation": null,
        "pivotColumns": null,
        "xColumns": null,
        "yColumns": null
       },
       "removedWidgets": [],
       "schema": [
        {
         "metadata": "{}",
         "name": "timestamp",
         "type": "\"timestamp\""
        },
        {
         "metadata": "{}",
         "name": "value",
         "type": "\"long\""
        },
        {
         "metadata": "{}",
         "name": "weather_data",
         "type": "\"string\""
        }
       ],
       "type": "table"
      }
     },
     "output_type": "display_data"
    }
   ],
   "source": [
    "df = spark.read.format(\"delta\").load(\"abfss://raw@nishantdev.dfs.core.windows.net/bronze/weather/\")\n",
    "df.display()\n"
   ]
  },
  {
   "cell_type": "code",
   "execution_count": 0,
   "metadata": {
    "application/vnd.databricks.v1+cell": {
     "cellMetadata": {},
     "inputWidgets": {},
     "nuid": "3faef7a8-e8f0-4d56-9dad-cfcac3e80a2c",
     "showTitle": false,
     "tableResultSettingsMap": {},
     "title": ""
    }
   },
   "outputs": [],
   "source": [
    "from pyspark.sql import SparkSession\n",
    "from pyspark.sql.functions import from_json, col\n",
    "from pyspark.sql.types import StructType, StructField, StringType, IntegerType, DoubleType, ArrayType, TimestampType\n",
    "\n",
    "\n",
    "\n",
    "# Define schema for the JSON within the weather_data column\n",
    "weather_schema = StructType([\n",
    "    StructField(\"name\", StringType(), True),\n",
    "    StructField(\"country\", StringType(), True),\n",
    "    StructField(\"region\", StringType(), True),\n",
    "    StructField(\"lat\", DoubleType(), True),\n",
    "    StructField(\"lon\", DoubleType(), True),\n",
    "    StructField(\"localtime\", StringType(), True),\n",
    "    StructField(\"temp_c\", DoubleType(), True),\n",
    "    StructField(\"is_day\", IntegerType(), True),\n",
    "    StructField(\"condition\", StringType(), True),\n",
    "    StructField(\"condition_icon\", StringType(), True),\n",
    "    StructField(\"wind_kph\", DoubleType(), True),\n",
    "    StructField(\"wind_dir\", StringType(), True),\n",
    "    StructField(\"wind_degree\", IntegerType(), True),\n",
    "    StructField(\"pressure_in\", DoubleType(), True),\n",
    "    StructField(\"precip_in\", DoubleType(), True),\n",
    "    StructField(\"cloud\", IntegerType(), True),\n",
    "    StructField(\"humidity\", IntegerType(), True),\n",
    "    StructField(\"feelslike_c\", DoubleType(), True),\n",
    "    StructField(\"uv\", DoubleType(), True),\n",
    "    StructField(\"air_quality\", StructType([\n",
    "        StructField(\"co\", DoubleType(), True),\n",
    "        StructField(\"no2\", DoubleType(), True),\n",
    "        StructField(\"o3\", DoubleType(), True),\n",
    "        StructField(\"so2\", DoubleType(), True),\n",
    "        StructField(\"pm2_5\", DoubleType(), True),\n",
    "        StructField(\"pm10\", DoubleType(), True),\n",
    "        StructField(\"us-epa-index\", IntegerType(), True),\n",
    "        StructField(\"gb-defra-index\", IntegerType(), True)\n",
    "    ]), True),\n",
    "    StructField(\"alerts\", ArrayType(StringType()), True),\n",
    "    StructField(\"forecast\", ArrayType(StructType([\n",
    "        StructField(\"date\", StringType(), True),\n",
    "        StructField(\"maxtemp_c\", DoubleType(), True),\n",
    "        StructField(\"mintemp_c\", DoubleType(), True),\n",
    "        StructField(\"condition\", StringType(), True)\n",
    "    ])), True)\n",
    "])\n",
    "\n",
    "# Define the overall schema\n",
    "overall_schema = StructType([\n",
    "    StructField(\"timestamp\", TimestampType(), True),\n",
    "    StructField(\"value\", IntegerType(), True),\n",
    "    StructField(\"weather_data\", StringType(), True)\n",
    "])\n",
    "\n",
    "# Create a DataFrame from your data (replace with your actual data source)\n",
    "data = [\n",
    "    (\"2025-02-17T17:51:06.149+00:00\", 0, '{\"name\": \"Chennai\", \"country\": \"India\", \"region\": \"Tamil Nadu\", \"lat\": 13.0833, \"lon\": 80.2833, \"localtime\": \"2025-02-17 23:21\", \"temp_c\": 27.0, \"is_day\": 0, \"condition\": \"Mist\", \"condition_icon\": \"//cdn.weatherapi.com/weather/64x64/night/143.png\", \"wind_kph\": 11.2, \"wind_dir\": \"ESE\", \"wind_degree\": 106, \"pressure_in\": 29.94, \"precip_in\": 0.0, \"cloud\": 25, \"humidity\": 79, \"feelslike_c\": 29.5, \"uv\": 0.0, \"air_quality\": {\"co\": 471.75, \"no2\": 10.545, \"o3\": 96.0, \"so2\": 10.73, \"pm2_5\": 68.45, \"pm10\": 79.55, \"us-epa-index\": 4, \"gb-defra-index\": 9}, \"alerts\": [], \"forecast\": [{\"date\": \"2025-02-17\", \"maxtemp_c\": 28.3, \"mintemp_c\": 23.5, \"condition\": \"Sunny\"}, {\"date\": \"2025-02-18\", \"maxtemp_c\": 28.2, \"mintemp_c\": 22.8, \"condition\": \"Sunny\"}, {\"date\": \"2025-02-19\", \"maxtemp_c\": 28.9, \"mintemp_c\": 22.5, \"condition\": \"Sunny\"}]}'),\n",
    "    (\"2025-02-17T17:51:09.149+00:00\", 3, '{\"name\": \"Chennai\", \"country\": \"India\", \"region\": \"Tamil Nadu\", \"lat\": 13.0833, \"lon\": 80.2833, \"localtime\": \"2025-02-17 23:21\", \"temp_c\": 27.0, \"is_day\": 0, \"condition\": \"Mist\", \"condition_icon\": \"//cdn.weatherapi.com/weather/64x64/night/143.png\", \"wind_kph\": 11.2, \"wind_dir\": \"ESE\", \"wind_degree\": 106, \"pressure_in\": 29.94, \"precip_in\": 0.0, \"cloud\": 25, \"humidity\": 79, \"feelslike_c\": 29.5, \"uv\": 0.0, \"air_quality\": {\"co\": 471.75, \"no2\": 10.545, \"o3\": 96.0, \"so2\": 10.73, \"pm2_5\": 68.45, \"pm10\": 79.55, \"us-epa-index\": 4, \"gb-defra-index\": 9}, \"alerts\": [], \"forecast\": [{\"date\": \"2025-02-17\", \"maxtemp_c\": 28.3, \"mintemp_c\": 23.5, \"condition\": \"Sunny\"}, {\"date\": \"2025-02-18\", \"maxtemp_c\": 28.2, \"mintemp_c\": 22.8, \"condition\": \"Sunny\"}, {\"date\": \"2025-02-19\", \"maxtemp_c\": 28.9, \"mintemp_c\": 22.5, \"condition\": \"Sunny\"}]}'),\n",
    "    # ... add the rest of your data here ...\n",
    "]\n",
    "\n",
    "df = spark.createDataFrame(data, overall_schema)\n",
    "\n",
    "# Parse the JSON string in the weather_data column\n",
    "df = df.withColumn(\"weather_data\", from_json(col(\"weather_data\"), weather_schema))\n",
    "\n",
    "# Extract nested fields\n",
    "df = df.select(\"timestamp\", \"value\", \"weather_data.*\")\n",
    "\n",
    "# Example: Accessing nested fields\n",
    "df.printSchema()\n",
    "df.select(\"name\", \"temp_c\", \"air_quality.pm2_5\", \"forecast.date\").show()\n",
    "\n",
    "# Example: Accessing array elements\n",
    "df.select(\"forecast[0].date\", \"forecast[0].maxtemp_c\").show()\n",
    "\n",
    "# Stop SparkSession\n",
    "spark.stop()"
   ]
  }
 ],
 "metadata": {
  "application/vnd.databricks.v1+notebook": {
   "computePreferences": null,
   "dashboards": [],
   "environmentMetadata": {
    "base_environment": "",
    "environment_version": "2"
   },
   "language": "python",
   "notebookMetadata": {
    "pythonIndentUnit": 4
   },
   "notebookName": "Silver layer  Schema",
   "widgets": {}
  },
  "language_info": {
   "name": "python"
  }
 },
 "nbformat": 4,
 "nbformat_minor": 0
}